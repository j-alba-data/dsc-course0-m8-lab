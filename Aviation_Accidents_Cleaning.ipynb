{
 "cells": [
  {
   "cell_type": "markdown",
   "id": "d7485d62",
   "metadata": {},
   "source": [
    "# Aviation Accidents Analysis\n",
    "\n",
    "You are part of a consulting firm that is tasked to do an analysis of commercial and passenger jet airline safety. The client (an airline/airplane insurer) is interested in knowing what types of aircraft (makes/models) exhibit low rates of total destruction and low likelihood of fatal or serious passenger injuries in the event of an accident. They are also interested in any general variables/conditions that might be at play. Your analysis will be based off of aviation accident data accumulated from the years 1948-2023. \n",
    "\n",
    "Our client is only interested in airplane makes/models that are professional builds and could potentially still be active. Assume a max lifetime of 40 years for a make/model retirement and make sure to filter your data accordingly (i.e. from 1983 onwards). They would also like separate recommendations for small aircraft vs. larger passenger models. **In addition, make sure that claims that you make are statistically robust and that you have enough samples when making comparisons between groups.**\n",
    "\n",
    "\n",
    "In this summative assessment you will demonstrate your ability to:\n",
    "- **Use Pandas to load, inspect, and clean the dataset appropriately.**\n",
    "- **Transform relevant columns to create measures that address the problem at hand.**\n",
    "- conduct EDA: visualization and statistical measures to systematically understand the structure of the data\n",
    "- recommend a set of airplanes and makes conforming to the client's request and identify at least *two* factors contributing to airplane safety. You must provide supporting evidence (visuals, summary statistics, tables) for each claim you make."
   ]
  },
  {
   "cell_type": "markdown",
   "id": "73e582c5",
   "metadata": {},
   "source": [
    "### Make relevant library imports"
   ]
  },
  {
   "cell_type": "code",
   "execution_count": null,
   "id": "a72188a8",
   "metadata": {},
   "outputs": [],
   "source": [
    "import pandas as pd\n",
    "import numpy as np\n",
    "import matplotlib.pyplot as plt\n",
    "import seaborn as sns"
   ]
  },
  {
   "cell_type": "markdown",
   "id": "5b1fc321",
   "metadata": {},
   "source": [
    "## Data Loading and Inspection"
   ]
  },
  {
   "cell_type": "markdown",
   "id": "57becc28",
   "metadata": {},
   "source": [
    "### Load in data from the relevant directory and inspect the dataframe.\n",
    "- inspect NaNs, datatypes, and summary statistics"
   ]
  },
  {
   "cell_type": "code",
   "execution_count": null,
   "id": "85235fa7",
   "metadata": {},
   "outputs": [],
   "source": [
    "df = pd.read_csv('./data/AviationData.csv', encoding='latin-1', low_memory=False)"
   ]
  },
  {
   "cell_type": "markdown",
   "id": "773c5498",
   "metadata": {},
   "source": [
    "**Datatypes**"
   ]
  },
  {
   "cell_type": "code",
   "execution_count": null,
   "id": "e671660b",
   "metadata": {},
   "outputs": [],
   "source": [
    "df.info()"
   ]
  },
  {
   "cell_type": "markdown",
   "id": "2dfec90f",
   "metadata": {},
   "source": [
    "#### Summary Stats"
   ]
  },
  {
   "cell_type": "code",
   "execution_count": null,
   "id": "31ac0942",
   "metadata": {},
   "outputs": [],
   "source": [
    "df.describe()"
   ]
  },
  {
   "cell_type": "markdown",
   "id": "2e9b8cc7",
   "metadata": {},
   "source": [
    "## Data Cleaning"
   ]
  },
  {
   "cell_type": "markdown",
   "id": "c23efd78",
   "metadata": {},
   "source": [
    "### Filtering aircrafts and events"
   ]
  },
  {
   "cell_type": "markdown",
   "id": "9c399343",
   "metadata": {},
   "source": [
    "We want to filter the dataset to include aircraft that the client is interested in an analysis of:\n",
    "- inspect relevant columns\n",
    "- figure out any reasonable imputations\n",
    "- filter the dataset"
   ]
  },
  {
   "cell_type": "code",
   "execution_count": null,
   "id": "5a2b7eab",
   "metadata": {},
   "outputs": [],
   "source": [
    "air_craft_se = df['Aircraft.Category'] # Series\n",
    "print(f'NaN Values: {air_craft_se.isna().sum()}') # NaN values\n",
    "\n",
    "print('\\nCount per Category')\n",
    "air_craft_se.value_counts() # count of non-NaN values"
   ]
  },
  {
   "cell_type": "markdown",
   "id": "65d8846a",
   "metadata": {},
   "source": [
    "**Reasonable Imputation**"
   ]
  },
  {
   "cell_type": "code",
   "execution_count": null,
   "id": "bac5a2f5",
   "metadata": {},
   "outputs": [],
   "source": [
    "air_craft_se.fillna('Airplane', inplace=True) # missing vals replaced by 'Airplane'\n",
    "\n",
    "print('\\nNew Count per Category (Imputation)')\n",
    "air_craft_se.value_counts()"
   ]
  },
  {
   "cell_type": "markdown",
   "id": "8bee5e3b",
   "metadata": {},
   "source": [
    "**Airplane DataFrame**"
   ]
  },
  {
   "cell_type": "code",
   "execution_count": null,
   "id": "a3b47f47",
   "metadata": {},
   "outputs": [],
   "source": [
    "airplane_df = df[air_craft_se == 'Airplane']\n",
    "airplane_df.info()"
   ]
  },
  {
   "cell_type": "markdown",
   "id": "278d852e",
   "metadata": {},
   "source": [
    "**Retain Only 'Professional Builds'**"
   ]
  },
  {
   "cell_type": "code",
   "execution_count": null,
   "id": "6d553229",
   "metadata": {},
   "outputs": [],
   "source": [
    "airplane_df['Amateur.Built'].value_counts() # count no. of amateur builds"
   ]
  },
  {
   "cell_type": "code",
   "execution_count": null,
   "id": "14ba4814",
   "metadata": {},
   "outputs": [],
   "source": [
    "airplane_df = airplane_df[airplane_df['Amateur.Built'] == 'No'] # remove amateur builds\n",
    "airplane_df['Amateur.Built'].value_counts()"
   ]
  },
  {
   "cell_type": "markdown",
   "id": "b3624dd2",
   "metadata": {},
   "source": [
    "**Retain Events of the last 40 Years**"
   ]
  },
  {
   "cell_type": "code",
   "execution_count": null,
   "id": "0ffac7fe",
   "metadata": {
    "scrolled": true
   },
   "outputs": [],
   "source": [
    "airplane_df = airplane_df.dropna(subset=['Publication.Date']) # drop NaNs\n",
    "airplane_df['Report.Date'] = pd.to_datetime(airplane_df['Publication.Date']) # convert to pd datetime obj\n",
    "\n",
    "airplane_df = airplane_df.sort_values(by=['Report.Date']) # sort by pd datetime asc\n",
    "airplane_df = airplane_df[airplane_df['Report.Date'] > '1983'] # retain last 40 by filter\n",
    "\n",
    "airplane_df.info()"
   ]
  },
  {
   "cell_type": "markdown",
   "id": "36d26002",
   "metadata": {},
   "source": [
    "### Cleaning and constructing Key Measurables\n",
    "\n",
    "Injuries and robustness to destruction are a key interest point for the client. Clean and impute relevant columns and then create derived fields that best quantifies what the client wishes to track. **Use commenting or markdown to explain any cleaning assumptions as well as any derived columns you create.**"
   ]
  },
  {
   "cell_type": "markdown",
   "id": "070b08f8",
   "metadata": {},
   "source": [
    "**Construct metric for fatal/serious injuries**\n",
    "\n",
    "*Hint:* Estimate the total number of passengers on each flight. The likelihood of serious / fatal injury can be estimated as a fraction from this."
   ]
  },
  {
   "cell_type": "markdown",
   "id": "3651497b",
   "metadata": {},
   "source": [
    "**Filter for 'Injury' Columns**"
   ]
  },
  {
   "cell_type": "code",
   "execution_count": null,
   "id": "ef28a6d4",
   "metadata": {},
   "outputs": [],
   "source": [
    "filter_col = airplane_df.columns.str.contains('njur') # select injury cols to use as filter\n",
    "inj_cols = airplane_df.columns[filter_col][1::] # select rows for injury columns\n",
    "\n",
    "print('NaNs for Injury Columns')\n",
    "airplane_df[inj_cols].isna().sum() # calc NaN per injury type"
   ]
  },
  {
   "cell_type": "code",
   "execution_count": null,
   "id": "115f156c",
   "metadata": {},
   "outputs": [],
   "source": [
    "airplane_df[inj_cols].isna().all(axis=1).sum()"
   ]
  },
  {
   "cell_type": "markdown",
   "id": "e35442bb",
   "metadata": {},
   "source": [
    "**Remove NaNs on 'Injury' Columns**"
   ]
  },
  {
   "cell_type": "code",
   "execution_count": null,
   "id": "6aede5ea",
   "metadata": {},
   "outputs": [],
   "source": [
    "airplane_df = airplane_df[~airplane_df[inj_cols].isna().all(axis=1)] # where true, remove injury NaNs from cols\n",
    "\n",
    "print('\\nRemaining \\'true\\' NaNs')\n",
    "airplane_df[inj_cols].isna().sum()"
   ]
  },
  {
   "cell_type": "markdown",
   "id": "3b854a94",
   "metadata": {},
   "source": [
    "**Replace Remaining NaNs with Zero**"
   ]
  },
  {
   "cell_type": "code",
   "execution_count": null,
   "id": "42244c9e",
   "metadata": {},
   "outputs": [],
   "source": [
    "airplane_df.loc[:,inj_cols] = airplane_df[inj_cols].fillna(0) # fill NaNs with zero\n",
    "airplane_df[inj_cols].isna().sum() # NaNs are now absent"
   ]
  },
  {
   "cell_type": "markdown",
   "id": "8fb062b6",
   "metadata": {},
   "source": [
    "**Calculate Injury Rate**"
   ]
  },
  {
   "cell_type": "code",
   "execution_count": null,
   "id": "0fe50a36",
   "metadata": {},
   "outputs": [],
   "source": [
    "airplane_df.loc[:,'N_passenger'] = airplane_df.loc[:,inj_cols].sum(axis=1) # total no. of passengers\n",
    "\n",
    "airplane_df = airplane_df[airplane_df['N_passenger'] > 0] # only retain passenger records\n",
    "\n",
    "passengers = airplane_df['N_passenger'] # passengers\n",
    "serious_inj = airplane_df['Total.Serious.Injuries'] # serious injuries\n",
    "fatal_inj = airplane_df['Total.Fatal.Injuries'] # fatal injuries\n",
    "\n",
    "airplane_df['ser_inj_rate'] = (fatal_inj + serious_inj)/passengers # calculate serious injury rate"
   ]
  },
  {
   "cell_type": "markdown",
   "id": "1faa5159",
   "metadata": {},
   "source": [
    "**View New Columns**"
   ]
  },
  {
   "cell_type": "code",
   "execution_count": null,
   "id": "e3661676",
   "metadata": {},
   "outputs": [],
   "source": [
    "airplane_df.head()"
   ]
  },
  {
   "cell_type": "markdown",
   "id": "6c89136b",
   "metadata": {},
   "source": [
    "**Aircraft.Damage**\n",
    "- identify and execute any cleaning tasks\n",
    "- construct a derived column tracking whether an aircraft was destroyed or not."
   ]
  },
  {
   "cell_type": "markdown",
   "id": "82fb8053",
   "metadata": {},
   "source": [
    "**Remove NaNs and unknowns**"
   ]
  },
  {
   "cell_type": "code",
   "execution_count": null,
   "id": "c607f65d",
   "metadata": {},
   "outputs": [],
   "source": [
    "airplane_df['Aircraft.damage'].unique()"
   ]
  },
  {
   "cell_type": "code",
   "execution_count": null,
   "id": "692c770b",
   "metadata": {},
   "outputs": [],
   "source": [
    "airplane_df['Aircraft.damage'].value_counts()"
   ]
  },
  {
   "cell_type": "code",
   "execution_count": null,
   "id": "17394dbf",
   "metadata": {},
   "outputs": [],
   "source": [
    "print('\\nReplace unknowns with Nans')\n",
    "\n",
    "airplane_df['Aircraft.damage'] = airplane_df['Aircraft.damage'].replace({'Unknown':np.nan}) # turn unkws to NaN\n",
    "airplane_df.dropna(subset=['Aircraft.damage'], inplace=True) # drop NaNs from A.d col\n",
    "airplane_df['Aircraft.damage'].value_counts() # confirm dropped NaNs"
   ]
  },
  {
   "cell_type": "markdown",
   "id": "36994b72",
   "metadata": {},
   "source": [
    "**Boolean Masking for 'Destroyed'**"
   ]
  },
  {
   "cell_type": "code",
   "execution_count": null,
   "id": "60559b33",
   "metadata": {},
   "outputs": [],
   "source": [
    "airplane_df['is_destroyed'] = (airplane_df['Aircraft.damage'] == 'Destroyed').astype(int)"
   ]
  },
  {
   "cell_type": "code",
   "execution_count": null,
   "id": "831a7426",
   "metadata": {},
   "outputs": [],
   "source": [
    "airplane_df.head()"
   ]
  },
  {
   "cell_type": "markdown",
   "id": "e9d8af9b",
   "metadata": {},
   "source": [
    "### Investigate the *Make* column\n",
    "- Identify cleaning tasks here\n",
    "- List cleaning tasks clearly in markdown\n",
    "- Execute the cleaning tasks\n",
    "- For your analysis, keep Makes with a reasonable number (you can put the threshold at 50 though lower could work as well)"
   ]
  },
  {
   "cell_type": "code",
   "execution_count": null,
   "id": "cf9005cf",
   "metadata": {},
   "outputs": [],
   "source": [
    "airplane_df['Make'].value_counts()"
   ]
  },
  {
   "cell_type": "markdown",
   "id": "a7c53782",
   "metadata": {},
   "source": [
    "**Consolidate**"
   ]
  },
  {
   "cell_type": "code",
   "execution_count": null,
   "id": "a5e2cc0d",
   "metadata": {},
   "outputs": [],
   "source": [
    "airplane_df[\"Make\"] = airplane_df[\"Make\"].replace(to_replace=[\"CESSNA AIRCRAFT CO\", \"CESSNA AIRCRAFT COMPANY\", \"CESSNA AIRCRAFT\", \"Cessna\"], value=\"CESSNA\")\n",
    "\n",
    "airplane_df[\"Make\"] = airplane_df[\"Make\"].replace(to_replace=[\"PIPER AIRCRAFT INC\", \"PIPER AIRCRAFT CORPORATION\", \"PIPER AIRCRAFT\", \"Piper\"], value=\"PIPER\")\n",
    "\n",
    "airplane_df[\"Make\"] = airplane_df[\"Make\"].replace(to_replace=[\"BEECHCRAFT\", \"HAWKER BEECHCRAFT\", \"HAWKER BEECHCRAFT CORP\", \"HAWKER BEECH\", \"Beech\"], value=\"BEECH\") \n",
    "\n",
    "airplane_df[\"Make\"] = airplane_df[\"Make\"].replace(to_replace=[\"THE BOEING COMPANY\", \"BOEING COMPANY\", \"BOEING STEARMAN\", \"Boeing\"], value=\"BOEING\")\n",
    "\n",
    "airplane_df[\"Make\"] = airplane_df[\"Make\"].replace(to_replace=[\"MOONEY AIRCRAFT CORP.\", \"MOONEY AIRPLANE CO INC\", \"MOONEY INTERNATIONAL\", \"Mooney\"], value=\"MOONEY\")\n",
    "\n",
    "airplane_df[\"Make\"] = airplane_df[\"Make\"].replace(to_replace=[\"GRUMMAN ACFT ENG COR-SCHWEIZER\", \"GRUMMAN AMERICAN AVN. CORP\", \"GRUMMAN AMERICAN AVN. CORP\", \"Grumman-schweizer\", \"Schweizer\", \"Grumman\"], value= \"GRUMMAN\")\n",
    "\n",
    "airplane_df[\"Make\"] = airplane_df[\"Make\"].replace(to_replace=[\"AIRBUS INDUSTRIES\", \"Airbus Industrie\", \"Airbus\"], value=\"AIRBUS\")\n",
    "\n",
    "airplane_df[\"Make\"] = airplane_df[\"Make\"].replace(to_replace=[\"MAULE AIRCRAFT CORP\", \"Maule\"], value=\"MAULE\")\n",
    "\n",
    "airplane_df[\"Make\"] = airplane_df[\"Make\"].replace(to_replace=[\"AERONCA AIRCRAFT CORPORATION\", \"AERONCA CHAMPION\", \"AERONCA CHAMP\", \"Aeronca\", \"Champion\"], value=\"AERONCA\")\n",
    "\n",
    "airplane_df[\"Make\"] = airplane_df[\"Make\"].replace(to_replace=[\"AIR TRACTOR\", \"AIR TRACTOR INC\", \"Air Tractor\"], value=\"AIR TRACTOR\")\n",
    "\n",
    "airplane_df[\"Make\"] = airplane_df[\"Make\"].replace(to_replace=[\"CIRRUS\", \"CIRRUS DESIGN CORP\", \"CIRRUS DESIGN CORP.\", \"Cirrus\"], value=\"CIRRUS\")\n",
    "\n",
    "airplane_df[\"Make\"] = airplane_df[\"Make\"].replace(to_replace=[\"ERCOUPE\", \"ERCOUPE (ENG & RESEARCH CORP.)\", \"Ercoupe\"], value=\"ERCOUPE\")\n",
    "\n",
    "airplane_df[\"Make\"] = airplane_df[\"Make\"].replace(to_replace=[\"AVIAT AIRCRAFT INC\", \"AVIAT\", \"Aviat\"], value=\"AVIAT\")\n",
    "\n",
    "airplane_df[\"Make\"] = airplane_df[\"Make\"].replace(to_replace=[\"ROCKWELL\", \"ROCKWELL INTERNATIONAL\", \"Rockwell\"], value=\"ROCKWELL\")"
   ]
  },
  {
   "cell_type": "code",
   "execution_count": null,
   "id": "f5181610",
   "metadata": {},
   "outputs": [],
   "source": [
    "filtered_makes = airplane_df['Make'].value_counts()[airplane_df['Make'].value_counts() > 50]\n",
    "filtered_makes[:25]"
   ]
  },
  {
   "cell_type": "markdown",
   "id": "f1ff6013",
   "metadata": {},
   "source": [
    "**Filter Based On Makes**"
   ]
  },
  {
   "cell_type": "code",
   "execution_count": null,
   "id": "5d7b81a2",
   "metadata": {},
   "outputs": [],
   "source": [
    "airplane_df = airplane_df[airplane_df['Make'].isin(filtered_makes.index)]"
   ]
  },
  {
   "cell_type": "code",
   "execution_count": null,
   "id": "f5f1ebd8",
   "metadata": {},
   "outputs": [],
   "source": [
    "airplane_df.info()"
   ]
  },
  {
   "cell_type": "markdown",
   "id": "6ed9f3c2",
   "metadata": {},
   "source": [
    "### Inspect Model column\n",
    "- Get rid of any NaNs.\n",
    "- Inspect the column and counts for each model/make. Are model labels unique to each make?\n",
    "- If not, create a derived column that is a unique identifier for a given plane type."
   ]
  },
  {
   "cell_type": "code",
   "execution_count": null,
   "id": "05f20594",
   "metadata": {},
   "outputs": [],
   "source": [
    "airplane_df.dropna(subset=['Model'], inplace=True)"
   ]
  },
  {
   "cell_type": "markdown",
   "id": "9526f8e5",
   "metadata": {},
   "source": [
    "**Multi-Indexing (Make & Model)**"
   ]
  },
  {
   "cell_type": "code",
   "execution_count": null,
   "id": "6eeea4ec",
   "metadata": {},
   "outputs": [],
   "source": [
    "airplane_df['make_model'] = airplane_df['Make'] + '_' + airplane_df['Model'].str.upper()"
   ]
  },
  {
   "cell_type": "markdown",
   "id": "9a173ebd",
   "metadata": {},
   "source": [
    "### Cleaning other columns\n",
    "- there are other columns containing data that might be related to the outcome of an accident. We list a few here:\n",
    "- Engine.Type\n",
    "- Weather.Condition\n",
    "- Number.of.Engines\n",
    "- Purpose.of.flight\n",
    "- Broad.phase.of.flight\n",
    "\n",
    "Inspect and identify potential cleaning tasks in each of the above columns. Execute those cleaning tasks. \n",
    "\n",
    "**Note**: You do not necessarily need to impute or drop NaNs here."
   ]
  },
  {
   "cell_type": "markdown",
   "id": "f00b6b5f",
   "metadata": {},
   "source": [
    "**Clean 'Engine.Type'**"
   ]
  },
  {
   "cell_type": "code",
   "execution_count": null,
   "id": "0d289fb7",
   "metadata": {},
   "outputs": [],
   "source": [
    "airplane_df['Engine.Type'].value_counts()"
   ]
  },
  {
   "cell_type": "code",
   "execution_count": null,
   "id": "2719877c",
   "metadata": {},
   "outputs": [],
   "source": [
    "print('\\nReplace \\'Unknown\\' & \\'UNK\\'')"
   ]
  },
  {
   "cell_type": "code",
   "execution_count": null,
   "id": "f979c6b7",
   "metadata": {},
   "outputs": [],
   "source": [
    "airplane_df['Engine.Type'].replace({'Unknown': np.nan, 'UNK':np.nan}, inplace=True)"
   ]
  },
  {
   "cell_type": "markdown",
   "id": "b64a850b",
   "metadata": {},
   "source": [
    "**Filter Out Single 'Engine' Values**"
   ]
  },
  {
   "cell_type": "code",
   "execution_count": null,
   "id": "2cdb470d",
   "metadata": {},
   "outputs": [],
   "source": [
    "filtr_engine = airplane_df['Engine.Type'].value_counts()[airplane_df['Engine.Type'].value_counts() > 1] # filter out single engine value\n",
    "\n",
    "airplane_df = airplane_df[airplane_df['Engine.Type'].isin(filtr_engine.index)] # implement filter in engine col\n",
    "\n",
    "airplane_df['Engine.Type'].value_counts() # check work"
   ]
  },
  {
   "cell_type": "code",
   "execution_count": null,
   "id": "18e25595",
   "metadata": {},
   "outputs": [],
   "source": [
    "airplane_df['Number.of.Engines'].value_counts()"
   ]
  },
  {
   "cell_type": "markdown",
   "id": "37f81353",
   "metadata": {},
   "source": [
    "**Removing Zero 'Number.of.Engines'**"
   ]
  },
  {
   "cell_type": "code",
   "execution_count": null,
   "id": "b6db61e5",
   "metadata": {},
   "outputs": [],
   "source": [
    "airplane_df = airplane_df[airplane_df['Number.of.Engines'] > 0.0]\n",
    "\n",
    "print('\\nCheck Work')\n",
    "airplane_df['Number.of.Engines'].value_counts()"
   ]
  },
  {
   "cell_type": "markdown",
   "id": "01b1eee2",
   "metadata": {},
   "source": [
    "**Clean 'Weather.Condition'**"
   ]
  },
  {
   "cell_type": "code",
   "execution_count": null,
   "id": "de201507",
   "metadata": {},
   "outputs": [],
   "source": [
    "print('\\nUnique Values')\n",
    "airplane_df['Weather.Condition'].unique()"
   ]
  },
  {
   "cell_type": "markdown",
   "id": "5d314cbe",
   "metadata": {},
   "source": [
    "**Replace 'Weather.Condition' Unknowns with NaNs**"
   ]
  },
  {
   "cell_type": "code",
   "execution_count": null,
   "id": "aaf940e8",
   "metadata": {},
   "outputs": [],
   "source": [
    "airplane_df['Weather.Condition'].replace({'UNK': np.nan, 'Unk': np.nan}, inplace=True)"
   ]
  },
  {
   "cell_type": "code",
   "execution_count": null,
   "id": "f32b1393",
   "metadata": {},
   "outputs": [],
   "source": [
    "print('\\n Check Work')\n",
    "airplane_df['Weather.Condition'].value_counts()"
   ]
  },
  {
   "cell_type": "markdown",
   "id": "12ad63d9",
   "metadata": {},
   "source": [
    "### Column Removal\n",
    "- inspect the dataframe and drop any columns that have too many NaNs"
   ]
  },
  {
   "cell_type": "code",
   "execution_count": null,
   "id": "f661bb21",
   "metadata": {},
   "outputs": [],
   "source": [
    "airplane_df.info()"
   ]
  },
  {
   "cell_type": "markdown",
   "id": "2b59f470",
   "metadata": {},
   "source": [
    "**Drop Cols with Many NaNs**"
   ]
  },
  {
   "cell_type": "code",
   "execution_count": null,
   "id": "97a43764",
   "metadata": {},
   "outputs": [],
   "source": [
    "airplane_df = airplane_df.drop(columns=['FAR.Description', 'Air.carrier', 'Schedule'])"
   ]
  },
  {
   "cell_type": "markdown",
   "id": "750d48f1",
   "metadata": {},
   "source": [
    "### Save DataFrame to csv\n",
    "- its generally useful to save data to file/server after its in a sufficiently cleaned or intermediate state\n",
    "- the data can then be loaded directly in another notebook for further analysis\n",
    "- this helps keep your notebooks and workflow readable, clean and modularized"
   ]
  },
  {
   "cell_type": "code",
   "execution_count": null,
   "id": "b425a512",
   "metadata": {},
   "outputs": [],
   "source": [
    "airplane_df.to_csv('data/air_cleaned.csv', index=False)"
   ]
  }
 ],
 "metadata": {
  "kernelspec": {
   "display_name": "Python 3 (ipykernel)",
   "language": "python",
   "name": "python3"
  },
  "language_info": {
   "codemirror_mode": {
    "name": "ipython",
    "version": 3
   },
   "file_extension": ".py",
   "mimetype": "text/x-python",
   "name": "python",
   "nbconvert_exporter": "python",
   "pygments_lexer": "ipython3",
   "version": "3.9.7"
  }
 },
 "nbformat": 4,
 "nbformat_minor": 5
}
