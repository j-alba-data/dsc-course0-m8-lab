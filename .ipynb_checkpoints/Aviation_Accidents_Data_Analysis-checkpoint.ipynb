{
 "cells": [
  {
   "cell_type": "markdown",
   "id": "90b31a8c",
   "metadata": {},
   "source": [
    "# Aviation Accidents Analysis\n",
    "\n",
    "You are part of a consulting firm that is tasked to do an analysis of commercial and passenger jet airline safety. The client (an airline/airplane insurer) is interested in knowing what types of aircraft (makes/models) exhibit low rates of total destruction and low likelihood of fatal or serious passenger injuries in the event of an accident. They are also interested in any general variables/conditions that might be at play. Your analysis will be based off of aviation accident data accumulated from the years 1948-2023. \n",
    "\n",
    "Our client is only interested in airplane makes/models that are professional builds and could potentially still be active. Assume a max lifetime of 40 years for a make/model retirement and make sure to filter your data accordingly (i.e. from 1983 onwards). They would also like separate recommendations for small aircraft vs. larger passenger models. **In addition, make sure that claims that you make are statistically robust and that you have enough samples when making comparisons between groups.**\n",
    "\n",
    "\n",
    "In this summative assessment you will demonstrate your ability to:\n",
    "- Use Pandas to load, inspect, and clean the dataset appropriately. \n",
    "- Transform relevant columns to create measures that address the problem at hand.\n",
    "- **conduct EDA: visualization and statistical measures to understand the structure of the data**\n",
    "- **recommend a set of manufacturers to consider as well as specific airplanes conforming to the client's request**\n",
    "- **discuss the relationship between serious injuries/airplane damage incurred and at least *two* factors at play in the incident. You must provide supporting evidence (visuals, summary statistics, tables) for each claim you make.**"
   ]
  },
  {
   "cell_type": "code",
   "execution_count": 1,
   "id": "f41a5544",
   "metadata": {},
   "outputs": [],
   "source": [
    "# loading relevant packages\n",
    "import pandas as pd\n",
    "import numpy as np\n",
    "import matplotlib.pyplot as plt\n",
    "import seaborn as sns"
   ]
  },
  {
   "cell_type": "markdown",
   "id": "e5ce8ff6",
   "metadata": {},
   "source": [
    "## Exploratory Data Analysis  \n",
    "- Load in the cleaned data"
   ]
  },
  {
   "cell_type": "code",
   "execution_count": 2,
   "id": "149894c6",
   "metadata": {},
   "outputs": [
    {
     "name": "stdout",
     "output_type": "stream",
     "text": [
      "<class 'pandas.core.frame.DataFrame'>\n",
      "RangeIndex: 51663 entries, 0 to 51662\n",
      "Data columns (total 33 columns):\n",
      " #   Column                  Non-Null Count  Dtype  \n",
      "---  ------                  --------------  -----  \n",
      " 0   Event.Id                50860 non-null  object \n",
      " 1   Investigation.Type      51663 non-null  object \n",
      " 2   Accident.Number         51663 non-null  object \n",
      " 3   Event.Date              51663 non-null  object \n",
      " 4   Location                51652 non-null  object \n",
      " 5   Country                 51544 non-null  object \n",
      " 6   Latitude                20373 non-null  object \n",
      " 7   Longitude               19567 non-null  object \n",
      " 8   Airport.Code            31212 non-null  object \n",
      " 9   Airport.Name            32613 non-null  object \n",
      " 10  Injury.Severity         50860 non-null  object \n",
      " 11  Aircraft.damage         50860 non-null  object \n",
      " 12  Aircraft.Category       50860 non-null  object \n",
      " 13  Registration.Number     50831 non-null  object \n",
      " 14  Make                    50860 non-null  object \n",
      " 15  Model                   50860 non-null  object \n",
      " 16  Amateur.Built           50860 non-null  object \n",
      " 17  Number.of.Engines       50860 non-null  float64\n",
      " 18  Engine.Type             50860 non-null  object \n",
      " 19  Purpose.of.flight       49457 non-null  object \n",
      " 20  Total.Fatal.Injuries    50860 non-null  float64\n",
      " 21  Total.Serious.Injuries  50860 non-null  float64\n",
      " 22  Total.Minor.Injuries    50860 non-null  float64\n",
      " 23  Total.Uninjured         50860 non-null  float64\n",
      " 24  Weather.Condition       50076 non-null  object \n",
      " 25  Broad.phase.of.flight   39218 non-null  object \n",
      " 26  Report.Status           50182 non-null  object \n",
      " 27  Publication.Date        50057 non-null  object \n",
      " 28  Report.Date             50057 non-null  object \n",
      " 29  N_passenger             50057 non-null  float64\n",
      " 30  ser_inj_rate            50057 non-null  float64\n",
      " 31  is_destroyed            50057 non-null  float64\n",
      " 32  make_model              50057 non-null  object \n",
      "dtypes: float64(8), object(25)\n",
      "memory usage: 13.0+ MB\n"
     ]
    }
   ],
   "source": [
    "df = pd.read_csv('./data/air_cleaned.csv', low_memory=False)\n",
    "df.info()"
   ]
  },
  {
   "cell_type": "markdown",
   "id": "d3e993dc",
   "metadata": {},
   "source": [
    "## Explore safety metrics across models/makes\n",
    "- Remember that the client is interested in separate recommendations for smaller airplanes and larger airplanes. Choose a passenger threshold of 20 and separate the plane types. "
   ]
  },
  {
   "cell_type": "markdown",
   "id": "84f6bf14",
   "metadata": {},
   "source": [
    "**Create Sub-DataFrame for Loaded DataFrame**"
   ]
  },
  {
   "cell_type": "code",
   "execution_count": 3,
   "id": "a99e3af0",
   "metadata": {
    "scrolled": false
   },
   "outputs": [],
   "source": [
    "df_sub = df[['make_model', 'Make', 'Model', 'Aircraft.damage', 'is_destroyed', 'ser_inj_rate', 'N_passenger']]"
   ]
  },
  {
   "cell_type": "markdown",
   "id": "2c5629f7",
   "metadata": {},
   "source": [
    "**Separate Small & Large Planes**"
   ]
  },
  {
   "cell_type": "code",
   "execution_count": 4,
   "id": "052e8fcb",
   "metadata": {},
   "outputs": [],
   "source": [
    "sm_planes = df_sub[df_sub['N_passenger'] <= 20]\n",
    "lrg_planes = df_sub[df_sub['N_passenger'] > 20]"
   ]
  },
  {
   "cell_type": "markdown",
   "id": "725c7e50",
   "metadata": {},
   "source": [
    "#### Analyzing Makes\n",
    "\n",
    "Explore the human injury risk profile for small and larger Makes:\n",
    "- choose the 15 makes for each group possessing the lowest mean fatal/seriously injured fraction\n",
    "- plot the mean fatal/seriously injured fraction for each of these subgroups side-by-side"
   ]
  },
  {
   "cell_type": "code",
   "execution_count": 5,
   "id": "0417acc2",
   "metadata": {},
   "outputs": [],
   "source": [
    "safest_sm_makes = sm_planes.groupby('Make').mean()['ser_inj_rate'].sort_values().nsmallest(10)\n",
    "\n",
    "safest_lrg_makes = lrg_planes.groupby('Make').mean()['ser_inj_rate'].sort_values().nsmallest(10)"
   ]
  },
  {
   "cell_type": "markdown",
   "id": "4d965dd6",
   "metadata": {},
   "source": [
    "**Plot Injury Risk Profile by 'Make'**"
   ]
  },
  {
   "cell_type": "code",
   "execution_count": 6,
   "id": "88fa122b",
   "metadata": {},
   "outputs": [
    {
     "data": {
      "image/png": "[encoded data removed]",
      "text/plain": [
       "<Figure size 432x288 with 2 Axes>"
      ]
     },
     "metadata": {
      "needs_background": "light"
     },
     "output_type": "display_data"
    }
   ],
   "source": [
    "fig, ax = plt.subplots(1, 2, sharey=True)\n",
    "safest_sm_makes.plot.bar(ax=ax[0])\n",
    "ax[0].set_title('Small Planes')\n",
    "safest_lrg_makes.plot.bar(ax=ax[1])\n",
    "ax[1].set_title('Large Planes')\n",
    "ax[0].set_ylabel('Serious/Fatal Injury Rate')\n",
    "plt.tight_layout()"
   ]
  },
  {
   "cell_type": "markdown",
   "id": "2e09b89e",
   "metadata": {},
   "source": [
    "**Distribution of injury rates: small makes**\n",
    "\n",
    "Use a violinplot to look at the distribution of the fraction of passengers serious/fatally injured for small airplane makes. Just display makes with the ten lowest mean serious/fatal injury rates."
   ]
  },
  {
   "cell_type": "code",
   "execution_count": 8,
   "id": "835fcc26",
   "metadata": {},
   "outputs": [
    {
     "data": {
      "image/png": "[encoded data removed]",
      "text/plain": [
       "<Figure size 432x288 with 1 Axes>"
      ]
     },
     "metadata": {
      "needs_background": "light"
     },
     "output_type": "display_data"
    }
   ],
   "source": [
    "safest_sm_makes_selected = sm_planes[sm_planes['Make'].isin(safest_sm_makes.index)] # filter sm df by make with lowest inj rate\n",
    "\n",
    "fig, ax = plt.subplots()\n",
    "sns.violinplot(x='Make', y='ser_inj_rate', data=safest_sm_makes_selected, ax=ax)\n",
    "ax.tick_params(axis='x', rotation=90)\n",
    "ax.set_ylabel('Serious/Fatal Injury Rate');"
   ]
  },
  {
   "cell_type": "markdown",
   "id": "dba86877",
   "metadata": {},
   "source": [
    "**Distribution of injury rates: large makes**\n",
    "\n",
    "Use a stripplot to look at the distribution of the fraction of passengers serious/fatally injured for large airplane makes. Just display makes with the ten lowest mean serious/fatal injury rates."
   ]
  },
  {
   "cell_type": "code",
   "execution_count": null,
   "id": "bd247956",
   "metadata": {},
   "outputs": [],
   "source": []
  },
  {
   "cell_type": "markdown",
   "id": "eaeab462",
   "metadata": {},
   "source": [
    "**Evaluate the rate of aircraft destruction for both small and large aircraft by Make.** \n",
    "\n",
    "Sort your results and keep the lowest 15."
   ]
  },
  {
   "cell_type": "code",
   "execution_count": null,
   "id": "e105e04c",
   "metadata": {},
   "outputs": [],
   "source": []
  },
  {
   "cell_type": "markdown",
   "id": "77c7232c",
   "metadata": {},
   "source": [
    "#### Provide a short discussion on your findings for your summary statistics and plots:\n",
    "- Make any recommendations for Makes here based off of the destroyed fraction and fraction fatally/seriously injured\n",
    "- Comment on the calculated statistics and any corresponding distributions you have visualized."
   ]
  },
  {
   "cell_type": "code",
   "execution_count": null,
   "id": "0c86d0e0",
   "metadata": {},
   "outputs": [],
   "source": []
  },
  {
   "cell_type": "markdown",
   "id": "40aecfef",
   "metadata": {},
   "source": [
    "### Analyze plane types\n",
    "- plot the mean fatal/seriously injured fraction for both small and larger planes \n",
    "- also provide a distributional plot of your choice for the fatal/seriously injured fraction by airplane type (stripplot, violin, etc)  \n",
    "- filter ensuring that you have at least ten individual examples in each model/make to average over"
   ]
  },
  {
   "cell_type": "markdown",
   "id": "8f1faa32",
   "metadata": {},
   "source": [
    "**Larger planes**"
   ]
  },
  {
   "cell_type": "code",
   "execution_count": null,
   "id": "2792d157",
   "metadata": {},
   "outputs": [],
   "source": []
  },
  {
   "cell_type": "markdown",
   "id": "c7bb10ce",
   "metadata": {},
   "source": [
    "**Smaller planes**\n",
    "- for smaller planes, limit your plotted results to the makes with the 10 lowest mean serious/fatal injury fractions"
   ]
  },
  {
   "cell_type": "code",
   "execution_count": null,
   "id": "d0590708",
   "metadata": {},
   "outputs": [],
   "source": []
  },
  {
   "cell_type": "markdown",
   "id": "727e14b5",
   "metadata": {},
   "source": [
    "### Discussion of Specific Airplane Types\n",
    "- Discuss what you have found above regarding passenger fraction seriously/ both small and large airplane models."
   ]
  },
  {
   "cell_type": "code",
   "execution_count": null,
   "id": "32675815",
   "metadata": {},
   "outputs": [],
   "source": []
  },
  {
   "cell_type": "markdown",
   "id": "91b39e09",
   "metadata": {},
   "source": [
    "### Exploring Other Variables\n",
    "- Investigate how other variables effect aircraft damage and injury. You must choose **two** factors out of the following but are free to analyze more:\n",
    "\n",
    "- Weather Condition\n",
    "- Engine Type\n",
    "- Number of Engines\n",
    "- Phase of Flight\n",
    "- Purpose of Flight\n",
    "\n",
    "For each factor provide a discussion explaining your analysis with appropriate visualization / data summaries and interpreting your findings."
   ]
  },
  {
   "cell_type": "code",
   "execution_count": null,
   "id": "2ce07617",
   "metadata": {},
   "outputs": [],
   "source": []
  }
 ],
 "metadata": {
  "kernelspec": {
   "display_name": "Python 3 (ipykernel)",
   "language": "python",
   "name": "python3"
  },
  "language_info": {
   "codemirror_mode": {
    "name": "ipython",
    "version": 3
   },
   "file_extension": ".py",
   "mimetype": "text/x-python",
   "name": "python",
   "nbconvert_exporter": "python",
   "pygments_lexer": "ipython3",
   "version": "3.9.7"
  }
 },
 "nbformat": 4,
 "nbformat_minor": 5
}
