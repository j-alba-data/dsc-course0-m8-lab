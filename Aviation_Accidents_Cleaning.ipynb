{
 "cells": [
  {
   "cell_type": "markdown",
   "id": "d7485d62",
   "metadata": {},
   "source": [
    "# Aviation Accidents Analysis\n",
    "\n",
    "You are part of a consulting firm that is tasked to do an analysis of commercial and passenger jet airline safety. The client (an airline/airplane insurer) is interested in knowing what types of aircraft (makes/models) exhibit low rates of total destruction and low likelihood of fatal or serious passenger injuries in the event of an accident. They are also interested in any general variables/conditions that might be at play. Your analysis will be based off of aviation accident data accumulated from the years 1948-2023. \n",
    "\n",
    "Our client is only interested in airplane makes/models that are professional builds and could potentially still be active. Assume a max lifetime of 40 years for a make/model retirement and make sure to filter your data accordingly (i.e. from 1983 onwards). They would also like separate recommendations for small aircraft vs. larger passenger models. **In addition, make sure that claims that you make are statistically robust and that you have enough samples when making comparisons between groups.**\n",
    "\n",
    "\n",
    "In this summative assessment you will demonstrate your ability to:\n",
    "- **Use Pandas to load, inspect, and clean the dataset appropriately.**\n",
    "- **Transform relevant columns to create measures that address the problem at hand.**\n",
    "- conduct EDA: visualization and statistical measures to systematically understand the structure of the data\n",
    "- recommend a set of airplanes and makes conforming to the client's request and identify at least *two* factors contributing to airplane safety. You must provide supporting evidence (visuals, summary statistics, tables) for each claim you make."
   ]
  },
  {
   "cell_type": "markdown",
   "id": "73e582c5",
   "metadata": {},
   "source": [
    "### Make relevant library imports"
   ]
  },
  {
   "cell_type": "code",
   "execution_count": 1,
   "id": "a72188a8",
   "metadata": {},
   "outputs": [],
   "source": [
    "import pandas as pd\n",
    "import numpy as np\n",
    "import matplotlib.pyplot as plt\n",
    "import seaborn as sns"
   ]
  },
  {
   "cell_type": "markdown",
   "id": "5b1fc321",
   "metadata": {},
   "source": [
    "## Data Loading and Inspection"
   ]
  },
  {
   "cell_type": "markdown",
   "id": "57becc28",
   "metadata": {},
   "source": [
    "### Load in data from the relevant directory and inspect the dataframe.\n",
    "- inspect NaNs, datatypes, and summary statistics"
   ]
  },
  {
   "cell_type": "code",
   "execution_count": 2,
   "id": "85235fa7",
   "metadata": {},
   "outputs": [],
   "source": [
    "df = pd.read_csv('./data/AviationData.csv', encoding='latin-1', low_memory=False)"
   ]
  },
  {
   "cell_type": "markdown",
   "id": "773c5498",
   "metadata": {},
   "source": [
    "**Datatypes**"
   ]
  },
  {
   "cell_type": "code",
   "execution_count": 3,
   "id": "e671660b",
   "metadata": {},
   "outputs": [
    {
     "name": "stdout",
     "output_type": "stream",
     "text": [
      "<class 'pandas.core.frame.DataFrame'>\n",
      "RangeIndex: 88889 entries, 0 to 88888\n",
      "Data columns (total 31 columns):\n",
      " #   Column                  Non-Null Count  Dtype  \n",
      "---  ------                  --------------  -----  \n",
      " 0   Event.Id                88889 non-null  object \n",
      " 1   Investigation.Type      88889 non-null  object \n",
      " 2   Accident.Number         88889 non-null  object \n",
      " 3   Event.Date              88889 non-null  object \n",
      " 4   Location                88837 non-null  object \n",
      " 5   Country                 88663 non-null  object \n",
      " 6   Latitude                34382 non-null  object \n",
      " 7   Longitude               34373 non-null  object \n",
      " 8   Airport.Code            50249 non-null  object \n",
      " 9   Airport.Name            52790 non-null  object \n",
      " 10  Injury.Severity         87889 non-null  object \n",
      " 11  Aircraft.damage         85695 non-null  object \n",
      " 12  Aircraft.Category       32287 non-null  object \n",
      " 13  Registration.Number     87572 non-null  object \n",
      " 14  Make                    88826 non-null  object \n",
      " 15  Model                   88797 non-null  object \n",
      " 16  Amateur.Built           88787 non-null  object \n",
      " 17  Number.of.Engines       82805 non-null  float64\n",
      " 18  Engine.Type             81812 non-null  object \n",
      " 19  FAR.Description         32023 non-null  object \n",
      " 20  Schedule                12582 non-null  object \n",
      " 21  Purpose.of.flight       82697 non-null  object \n",
      " 22  Air.carrier             16648 non-null  object \n",
      " 23  Total.Fatal.Injuries    77488 non-null  float64\n",
      " 24  Total.Serious.Injuries  76379 non-null  float64\n",
      " 25  Total.Minor.Injuries    76956 non-null  float64\n",
      " 26  Total.Uninjured         82977 non-null  float64\n",
      " 27  Weather.Condition       84397 non-null  object \n",
      " 28  Broad.phase.of.flight   61724 non-null  object \n",
      " 29  Report.Status           82508 non-null  object \n",
      " 30  Publication.Date        75118 non-null  object \n",
      "dtypes: float64(5), object(26)\n",
      "memory usage: 21.0+ MB\n"
     ]
    }
   ],
   "source": [
    "df.info()"
   ]
  },
  {
   "cell_type": "markdown",
   "id": "2dfec90f",
   "metadata": {},
   "source": [
    "#### Summary Stats"
   ]
  },
  {
   "cell_type": "code",
   "execution_count": 4,
   "id": "31ac0942",
   "metadata": {},
   "outputs": [
    {
     "data": {
      "text/html": [
       "<div>\n",
       "<style scoped>\n",
       "    .dataframe tbody tr th:only-of-type {\n",
       "        vertical-align: middle;\n",
       "    }\n",
       "\n",
       "    .dataframe tbody tr th {\n",
       "        vertical-align: top;\n",
       "    }\n",
       "\n",
       "    .dataframe thead th {\n",
       "        text-align: right;\n",
       "    }\n",
       "</style>\n",
       "<table border=\"1\" class=\"dataframe\">\n",
       "  <thead>\n",
       "    <tr style=\"text-align: right;\">\n",
       "      <th></th>\n",
       "      <th>Number.of.Engines</th>\n",
       "      <th>Total.Fatal.Injuries</th>\n",
       "      <th>Total.Serious.Injuries</th>\n",
       "      <th>Total.Minor.Injuries</th>\n",
       "      <th>Total.Uninjured</th>\n",
       "    </tr>\n",
       "  </thead>\n",
       "  <tbody>\n",
       "    <tr>\n",
       "      <th>count</th>\n",
       "      <td>82805.000000</td>\n",
       "      <td>77488.000000</td>\n",
       "      <td>76379.000000</td>\n",
       "      <td>76956.000000</td>\n",
       "      <td>82977.000000</td>\n",
       "    </tr>\n",
       "    <tr>\n",
       "      <th>mean</th>\n",
       "      <td>1.146585</td>\n",
       "      <td>0.647855</td>\n",
       "      <td>0.279881</td>\n",
       "      <td>0.357061</td>\n",
       "      <td>5.325440</td>\n",
       "    </tr>\n",
       "    <tr>\n",
       "      <th>std</th>\n",
       "      <td>0.446510</td>\n",
       "      <td>5.485960</td>\n",
       "      <td>1.544084</td>\n",
       "      <td>2.235625</td>\n",
       "      <td>27.913634</td>\n",
       "    </tr>\n",
       "    <tr>\n",
       "      <th>min</th>\n",
       "      <td>0.000000</td>\n",
       "      <td>0.000000</td>\n",
       "      <td>0.000000</td>\n",
       "      <td>0.000000</td>\n",
       "      <td>0.000000</td>\n",
       "    </tr>\n",
       "    <tr>\n",
       "      <th>25%</th>\n",
       "      <td>1.000000</td>\n",
       "      <td>0.000000</td>\n",
       "      <td>0.000000</td>\n",
       "      <td>0.000000</td>\n",
       "      <td>0.000000</td>\n",
       "    </tr>\n",
       "    <tr>\n",
       "      <th>50%</th>\n",
       "      <td>1.000000</td>\n",
       "      <td>0.000000</td>\n",
       "      <td>0.000000</td>\n",
       "      <td>0.000000</td>\n",
       "      <td>1.000000</td>\n",
       "    </tr>\n",
       "    <tr>\n",
       "      <th>75%</th>\n",
       "      <td>1.000000</td>\n",
       "      <td>0.000000</td>\n",
       "      <td>0.000000</td>\n",
       "      <td>0.000000</td>\n",
       "      <td>2.000000</td>\n",
       "    </tr>\n",
       "    <tr>\n",
       "      <th>max</th>\n",
       "      <td>8.000000</td>\n",
       "      <td>349.000000</td>\n",
       "      <td>161.000000</td>\n",
       "      <td>380.000000</td>\n",
       "      <td>699.000000</td>\n",
       "    </tr>\n",
       "  </tbody>\n",
       "</table>\n",
       "</div>"
      ],
      "text/plain": [
       "       Number.of.Engines  Total.Fatal.Injuries  Total.Serious.Injuries  \\\n",
       "count       82805.000000          77488.000000            76379.000000   \n",
       "mean            1.146585              0.647855                0.279881   \n",
       "std             0.446510              5.485960                1.544084   \n",
       "min             0.000000              0.000000                0.000000   \n",
       "25%             1.000000              0.000000                0.000000   \n",
       "50%             1.000000              0.000000                0.000000   \n",
       "75%             1.000000              0.000000                0.000000   \n",
       "max             8.000000            349.000000              161.000000   \n",
       "\n",
       "       Total.Minor.Injuries  Total.Uninjured  \n",
       "count          76956.000000     82977.000000  \n",
       "mean               0.357061         5.325440  \n",
       "std                2.235625        27.913634  \n",
       "min                0.000000         0.000000  \n",
       "25%                0.000000         0.000000  \n",
       "50%                0.000000         1.000000  \n",
       "75%                0.000000         2.000000  \n",
       "max              380.000000       699.000000  "
      ]
     },
     "execution_count": 4,
     "metadata": {},
     "output_type": "execute_result"
    }
   ],
   "source": [
    "df.describe()"
   ]
  },
  {
   "cell_type": "markdown",
   "id": "2e9b8cc7",
   "metadata": {},
   "source": [
    "## Data Cleaning"
   ]
  },
  {
   "cell_type": "markdown",
   "id": "c23efd78",
   "metadata": {},
   "source": [
    "### Filtering aircrafts and events"
   ]
  },
  {
   "cell_type": "markdown",
   "id": "9c399343",
   "metadata": {},
   "source": [
    "We want to filter the dataset to include aircraft that the client is interested in an analysis of:\n",
    "- inspect relevant columns\n",
    "- figure out any reasonable imputations\n",
    "- filter the dataset"
   ]
  },
  {
   "cell_type": "code",
   "execution_count": 5,
   "id": "5a2b7eab",
   "metadata": {},
   "outputs": [
    {
     "name": "stdout",
     "output_type": "stream",
     "text": [
      "NaN Values: 56602\n",
      "\n",
      "Count per Category\n"
     ]
    },
    {
     "data": {
      "text/plain": [
       "Airplane             27617\n",
       "Helicopter            3440\n",
       "Glider                 508\n",
       "Balloon                231\n",
       "Gyrocraft              173\n",
       "Weight-Shift           161\n",
       "Powered Parachute       91\n",
       "Ultralight              30\n",
       "Unknown                 14\n",
       "WSFT                     9\n",
       "Powered-Lift             5\n",
       "Blimp                    4\n",
       "UNK                      2\n",
       "Rocket                   1\n",
       "ULTR                     1\n",
       "Name: Aircraft.Category, dtype: int64"
      ]
     },
     "execution_count": 5,
     "metadata": {},
     "output_type": "execute_result"
    }
   ],
   "source": [
    "air_craft_se = df['Aircraft.Category'] # Series\n",
    "print(f'NaN Values: {air_craft_se.isna().sum()}') # NaN values\n",
    "\n",
    "print('\\nCount per Category')\n",
    "air_craft_se.value_counts() # count of non-NaN values"
   ]
  },
  {
   "cell_type": "markdown",
   "id": "65d8846a",
   "metadata": {},
   "source": [
    "**Reasonable Imputation**"
   ]
  },
  {
   "cell_type": "code",
   "execution_count": 6,
   "id": "bac5a2f5",
   "metadata": {},
   "outputs": [
    {
     "name": "stdout",
     "output_type": "stream",
     "text": [
      "\n",
      "New Count per Category (Imputation)\n"
     ]
    },
    {
     "data": {
      "text/plain": [
       "Airplane             84219\n",
       "Helicopter            3440\n",
       "Glider                 508\n",
       "Balloon                231\n",
       "Gyrocraft              173\n",
       "Weight-Shift           161\n",
       "Powered Parachute       91\n",
       "Ultralight              30\n",
       "Unknown                 14\n",
       "WSFT                     9\n",
       "Powered-Lift             5\n",
       "Blimp                    4\n",
       "UNK                      2\n",
       "Rocket                   1\n",
       "ULTR                     1\n",
       "Name: Aircraft.Category, dtype: int64"
      ]
     },
     "execution_count": 6,
     "metadata": {},
     "output_type": "execute_result"
    }
   ],
   "source": [
    "air_craft_se.fillna('Airplane', inplace=True) # missing vals replaced by 'Airplane'\n",
    "\n",
    "print('\\nNew Count per Category (Imputation)')\n",
    "air_craft_se.value_counts()"
   ]
  },
  {
   "cell_type": "markdown",
   "id": "8bee5e3b",
   "metadata": {},
   "source": [
    "**Airplane DataFrame**"
   ]
  },
  {
   "cell_type": "code",
   "execution_count": 7,
   "id": "a3b47f47",
   "metadata": {},
   "outputs": [
    {
     "name": "stdout",
     "output_type": "stream",
     "text": [
      "<class 'pandas.core.frame.DataFrame'>\n",
      "Int64Index: 84219 entries, 0 to 88888\n",
      "Data columns (total 31 columns):\n",
      " #   Column                  Non-Null Count  Dtype  \n",
      "---  ------                  --------------  -----  \n",
      " 0   Event.Id                84219 non-null  object \n",
      " 1   Investigation.Type      84219 non-null  object \n",
      " 2   Accident.Number         84219 non-null  object \n",
      " 3   Event.Date              84219 non-null  object \n",
      " 4   Location                84169 non-null  object \n",
      " 5   Country                 83998 non-null  object \n",
      " 6   Latitude                30507 non-null  object \n",
      " 7   Longitude               30499 non-null  object \n",
      " 8   Airport.Code            48404 non-null  object \n",
      " 9   Airport.Name            50867 non-null  object \n",
      " 10  Injury.Severity         83289 non-null  object \n",
      " 11  Aircraft.damage         81201 non-null  object \n",
      " 12  Aircraft.Category       84219 non-null  object \n",
      " 13  Registration.Number     82949 non-null  object \n",
      " 14  Make                    84159 non-null  object \n",
      " 15  Model                   84129 non-null  object \n",
      " 16  Amateur.Built           84119 non-null  object \n",
      " 17  Number.of.Engines       78838 non-null  float64\n",
      " 18  Engine.Type             78456 non-null  object \n",
      " 19  FAR.Description         27462 non-null  object \n",
      " 20  Schedule                12084 non-null  object \n",
      " 21  Purpose.of.flight       78736 non-null  object \n",
      " 22  Air.carrier             14290 non-null  object \n",
      " 23  Total.Fatal.Injuries    73364 non-null  float64\n",
      " 24  Total.Serious.Injuries  72205 non-null  float64\n",
      " 25  Total.Minor.Injuries    72740 non-null  float64\n",
      " 26  Total.Uninjured         78487 non-null  float64\n",
      " 27  Weather.Condition       80337 non-null  object \n",
      " 28  Broad.phase.of.flight   60754 non-null  object \n",
      " 29  Report.Status           78826 non-null  object \n",
      " 30  Publication.Date        70638 non-null  object \n",
      "dtypes: float64(5), object(26)\n",
      "memory usage: 20.6+ MB\n"
     ]
    }
   ],
   "source": [
    "airplane_df = df[air_craft_se == 'Airplane']\n",
    "airplane_df.info()"
   ]
  },
  {
   "cell_type": "markdown",
   "id": "278d852e",
   "metadata": {},
   "source": [
    "**Retain Only 'Professional Builds'**"
   ]
  },
  {
   "cell_type": "code",
   "execution_count": 8,
   "id": "6d553229",
   "metadata": {},
   "outputs": [
    {
     "data": {
      "text/plain": [
       "No     76008\n",
       "Yes     8111\n",
       "Name: Amateur.Built, dtype: int64"
      ]
     },
     "execution_count": 8,
     "metadata": {},
     "output_type": "execute_result"
    }
   ],
   "source": [
    "airplane_df['Amateur.Built'].value_counts() # count no. of amateur builds"
   ]
  },
  {
   "cell_type": "code",
   "execution_count": 9,
   "id": "14ba4814",
   "metadata": {},
   "outputs": [
    {
     "data": {
      "text/plain": [
       "No    76008\n",
       "Name: Amateur.Built, dtype: int64"
      ]
     },
     "execution_count": 9,
     "metadata": {},
     "output_type": "execute_result"
    }
   ],
   "source": [
    "airplane_df = airplane_df[airplane_df['Amateur.Built'] == 'No'] # remove amateur builds\n",
    "airplane_df['Amateur.Built'].value_counts()"
   ]
  },
  {
   "cell_type": "markdown",
   "id": "b3624dd2",
   "metadata": {},
   "source": [
    "**Retain Events of the last 40 Years**"
   ]
  },
  {
   "cell_type": "code",
   "execution_count": 10,
   "id": "0ffac7fe",
   "metadata": {
    "scrolled": true
   },
   "outputs": [
    {
     "name": "stdout",
     "output_type": "stream",
     "text": [
      "<class 'pandas.core.frame.DataFrame'>\n",
      "Int64Index: 63340 entries, 217 to 88888\n",
      "Data columns (total 32 columns):\n",
      " #   Column                  Non-Null Count  Dtype         \n",
      "---  ------                  --------------  -----         \n",
      " 0   Event.Id                63340 non-null  object        \n",
      " 1   Investigation.Type      63340 non-null  object        \n",
      " 2   Accident.Number         63340 non-null  object        \n",
      " 3   Event.Date              63340 non-null  object        \n",
      " 4   Location                63303 non-null  object        \n",
      " 5   Country                 63181 non-null  object        \n",
      " 6   Latitude                26131 non-null  object        \n",
      " 7   Longitude               26126 non-null  object        \n",
      " 8   Airport.Code            37108 non-null  object        \n",
      " 9   Airport.Name            38562 non-null  object        \n",
      " 10  Injury.Severity         62659 non-null  object        \n",
      " 11  Aircraft.damage         60901 non-null  object        \n",
      " 12  Aircraft.Category       63340 non-null  object        \n",
      " 13  Registration.Number     62341 non-null  object        \n",
      " 14  Make                    63298 non-null  object        \n",
      " 15  Model                   63277 non-null  object        \n",
      " 16  Amateur.Built           63340 non-null  object        \n",
      " 17  Number.of.Engines       59206 non-null  float64       \n",
      " 18  Engine.Type             58892 non-null  object        \n",
      " 19  FAR.Description         23274 non-null  object        \n",
      " 20  Schedule                9548 non-null   object        \n",
      " 21  Purpose.of.flight       58628 non-null  object        \n",
      " 22  Air.carrier             12524 non-null  object        \n",
      " 23  Total.Fatal.Injuries    53829 non-null  float64       \n",
      " 24  Total.Serious.Injuries  52929 non-null  float64       \n",
      " 25  Total.Minor.Injuries    53431 non-null  float64       \n",
      " 26  Total.Uninjured         58786 non-null  float64       \n",
      " 27  Weather.Condition       60326 non-null  object        \n",
      " 28  Broad.phase.of.flight   43697 non-null  object        \n",
      " 29  Report.Status           59118 non-null  object        \n",
      " 30  Publication.Date        63340 non-null  object        \n",
      " 31  Report.Date             63340 non-null  datetime64[ns]\n",
      "dtypes: datetime64[ns](1), float64(5), object(26)\n",
      "memory usage: 15.9+ MB\n"
     ]
    }
   ],
   "source": [
    "airplane_df = airplane_df.dropna(subset=['Publication.Date']) # drop NaNs\n",
    "airplane_df['Report.Date'] = pd.to_datetime(airplane_df['Publication.Date']) # convert to pd datetime obj\n",
    "\n",
    "airplane_df = airplane_df.sort_values(by=['Report.Date']) # sort by pd datetime asc\n",
    "airplane_df = airplane_df[airplane_df['Report.Date'] > '1983'] # retain last 40 by filter\n",
    "\n",
    "airplane_df.info()"
   ]
  },
  {
   "cell_type": "markdown",
   "id": "36d26002",
   "metadata": {},
   "source": [
    "### Cleaning and constructing Key Measurables\n",
    "\n",
    "Injuries and robustness to destruction are a key interest point for the client. Clean and impute relevant columns and then create derived fields that best quantifies what the client wishes to track. **Use commenting or markdown to explain any cleaning assumptions as well as any derived columns you create.**"
   ]
  },
  {
   "cell_type": "markdown",
   "id": "070b08f8",
   "metadata": {},
   "source": [
    "**Construct metric for fatal/serious injuries**\n",
    "\n",
    "*Hint:* Estimate the total number of passengers on each flight. The likelihood of serious / fatal injury can be estimated as a fraction from this."
   ]
  },
  {
   "cell_type": "markdown",
   "id": "3651497b",
   "metadata": {},
   "source": [
    "**Filter for 'Injury' Columns**"
   ]
  },
  {
   "cell_type": "code",
   "execution_count": 11,
   "id": "ef28a6d4",
   "metadata": {},
   "outputs": [
    {
     "name": "stdout",
     "output_type": "stream",
     "text": [
      "NaNs for Injury Columns\n"
     ]
    },
    {
     "data": {
      "text/plain": [
       "Total.Fatal.Injuries       9511\n",
       "Total.Serious.Injuries    10411\n",
       "Total.Minor.Injuries       9909\n",
       "Total.Uninjured            4554\n",
       "dtype: int64"
      ]
     },
     "execution_count": 11,
     "metadata": {},
     "output_type": "execute_result"
    }
   ],
   "source": [
    "filter_col = airplane_df.columns.str.contains('njur') # select injury cols to use as filter\n",
    "inj_cols = airplane_df.columns[filter_col][1::] # select rows for injury columns\n",
    "\n",
    "print('NaNs for Injury Columns')\n",
    "airplane_df[inj_cols].isna().sum() # calc NaN per injury type"
   ]
  },
  {
   "cell_type": "code",
   "execution_count": 12,
   "id": "115f156c",
   "metadata": {},
   "outputs": [
    {
     "data": {
      "text/plain": [
       "140"
      ]
     },
     "execution_count": 12,
     "metadata": {},
     "output_type": "execute_result"
    }
   ],
   "source": [
    "airplane_df[inj_cols].isna().all(axis=1).sum()"
   ]
  },
  {
   "cell_type": "markdown",
   "id": "e35442bb",
   "metadata": {},
   "source": [
    "**Remove NaNs on 'Injury' Columns**"
   ]
  },
  {
   "cell_type": "code",
   "execution_count": 13,
   "id": "6aede5ea",
   "metadata": {},
   "outputs": [
    {
     "name": "stdout",
     "output_type": "stream",
     "text": [
      "\n",
      "Remaining 'true' NaNs\n"
     ]
    },
    {
     "data": {
      "text/plain": [
       "Total.Fatal.Injuries       9371\n",
       "Total.Serious.Injuries    10271\n",
       "Total.Minor.Injuries       9769\n",
       "Total.Uninjured            4414\n",
       "dtype: int64"
      ]
     },
     "execution_count": 13,
     "metadata": {},
     "output_type": "execute_result"
    }
   ],
   "source": [
    "airplane_df = airplane_df[~airplane_df[inj_cols].isna().all(axis=1)] # where true, remove injury NaNs from cols\n",
    "\n",
    "print('\\nRemaining \\'true\\' NaNs')\n",
    "airplane_df[inj_cols].isna().sum()"
   ]
  },
  {
   "cell_type": "markdown",
   "id": "3b854a94",
   "metadata": {},
   "source": [
    "**Replace Remaining NaNs with Zero**"
   ]
  },
  {
   "cell_type": "code",
   "execution_count": 14,
   "id": "42244c9e",
   "metadata": {},
   "outputs": [
    {
     "data": {
      "text/plain": [
       "Total.Fatal.Injuries      0\n",
       "Total.Serious.Injuries    0\n",
       "Total.Minor.Injuries      0\n",
       "Total.Uninjured           0\n",
       "dtype: int64"
      ]
     },
     "execution_count": 14,
     "metadata": {},
     "output_type": "execute_result"
    }
   ],
   "source": [
    "airplane_df.loc[:,inj_cols] = airplane_df[inj_cols].fillna(0) # fill NaNs with zero\n",
    "airplane_df[inj_cols].isna().sum() # NaNs are now absent"
   ]
  },
  {
   "cell_type": "markdown",
   "id": "8fb062b6",
   "metadata": {},
   "source": [
    "**Calculate Injury Rate**"
   ]
  },
  {
   "cell_type": "code",
   "execution_count": 15,
   "id": "0fe50a36",
   "metadata": {},
   "outputs": [],
   "source": [
    "airplane_df.loc[:,'N_passenger'] = airplane_df.loc[:,inj_cols].sum(axis=1) # total no. of passengers\n",
    "\n",
    "airplane_df = airplane_df[airplane_df['N_passenger'] > 0] # only retain passenger records\n",
    "\n",
    "passengers = airplane_df['N_passenger'] # passengers\n",
    "serious_inj = airplane_df['Total.Serious.Injuries'] # serious injuries\n",
    "fatal_inj = airplane_df['Total.Fatal.Injuries'] # fatal injuries\n",
    "\n",
    "airplane_df['ser_inj_rate'] = (fatal_inj + serious_inj)/passengers # calculate serious injury rate"
   ]
  },
  {
   "cell_type": "markdown",
   "id": "1faa5159",
   "metadata": {},
   "source": [
    "**View New Columns**"
   ]
  },
  {
   "cell_type": "code",
   "execution_count": 16,
   "id": "e3661676",
   "metadata": {},
   "outputs": [
    {
     "data": {
      "text/html": [
       "<div>\n",
       "<style scoped>\n",
       "    .dataframe tbody tr th:only-of-type {\n",
       "        vertical-align: middle;\n",
       "    }\n",
       "\n",
       "    .dataframe tbody tr th {\n",
       "        vertical-align: top;\n",
       "    }\n",
       "\n",
       "    .dataframe thead th {\n",
       "        text-align: right;\n",
       "    }\n",
       "</style>\n",
       "<table border=\"1\" class=\"dataframe\">\n",
       "  <thead>\n",
       "    <tr style=\"text-align: right;\">\n",
       "      <th></th>\n",
       "      <th>Event.Id</th>\n",
       "      <th>Investigation.Type</th>\n",
       "      <th>Accident.Number</th>\n",
       "      <th>Event.Date</th>\n",
       "      <th>Location</th>\n",
       "      <th>Country</th>\n",
       "      <th>Latitude</th>\n",
       "      <th>Longitude</th>\n",
       "      <th>Airport.Code</th>\n",
       "      <th>Airport.Name</th>\n",
       "      <th>...</th>\n",
       "      <th>Total.Serious.Injuries</th>\n",
       "      <th>Total.Minor.Injuries</th>\n",
       "      <th>Total.Uninjured</th>\n",
       "      <th>Weather.Condition</th>\n",
       "      <th>Broad.phase.of.flight</th>\n",
       "      <th>Report.Status</th>\n",
       "      <th>Publication.Date</th>\n",
       "      <th>Report.Date</th>\n",
       "      <th>N_passenger</th>\n",
       "      <th>ser_inj_rate</th>\n",
       "    </tr>\n",
       "  </thead>\n",
       "  <tbody>\n",
       "    <tr>\n",
       "      <th>217</th>\n",
       "      <td>20020917X02131</td>\n",
       "      <td>Accident</td>\n",
       "      <td>FTW82FQG14</td>\n",
       "      <td>1982-02-01</td>\n",
       "      <td>PAMPA, TX</td>\n",
       "      <td>United States</td>\n",
       "      <td>NaN</td>\n",
       "      <td>NaN</td>\n",
       "      <td>NaN</td>\n",
       "      <td>NaN</td>\n",
       "      <td>...</td>\n",
       "      <td>0.0</td>\n",
       "      <td>0.0</td>\n",
       "      <td>0.0</td>\n",
       "      <td>IMC</td>\n",
       "      <td>Maneuvering</td>\n",
       "      <td>Probable Cause</td>\n",
       "      <td>01-02-1983</td>\n",
       "      <td>1983-01-02</td>\n",
       "      <td>2.0</td>\n",
       "      <td>1.0</td>\n",
       "    </tr>\n",
       "    <tr>\n",
       "      <th>218</th>\n",
       "      <td>20020917X02315</td>\n",
       "      <td>Accident</td>\n",
       "      <td>LAX82FVD09</td>\n",
       "      <td>1982-02-01</td>\n",
       "      <td>SONOMA, CA</td>\n",
       "      <td>United States</td>\n",
       "      <td>NaN</td>\n",
       "      <td>NaN</td>\n",
       "      <td>SVA</td>\n",
       "      <td>SONOMA VALLEY</td>\n",
       "      <td>...</td>\n",
       "      <td>0.0</td>\n",
       "      <td>0.0</td>\n",
       "      <td>1.0</td>\n",
       "      <td>VMC</td>\n",
       "      <td>Takeoff</td>\n",
       "      <td>Probable Cause</td>\n",
       "      <td>01-02-1983</td>\n",
       "      <td>1983-01-02</td>\n",
       "      <td>1.0</td>\n",
       "      <td>0.0</td>\n",
       "    </tr>\n",
       "    <tr>\n",
       "      <th>219</th>\n",
       "      <td>20020917X02170</td>\n",
       "      <td>Accident</td>\n",
       "      <td>LAX82DA059</td>\n",
       "      <td>1982-02-01</td>\n",
       "      <td>LAS VEGAS, NV</td>\n",
       "      <td>United States</td>\n",
       "      <td>NaN</td>\n",
       "      <td>NaN</td>\n",
       "      <td>VGT</td>\n",
       "      <td>N. LAS VEGAS AIR TERMINAL</td>\n",
       "      <td>...</td>\n",
       "      <td>0.0</td>\n",
       "      <td>0.0</td>\n",
       "      <td>2.0</td>\n",
       "      <td>VMC</td>\n",
       "      <td>Landing</td>\n",
       "      <td>Probable Cause</td>\n",
       "      <td>01-02-1983</td>\n",
       "      <td>1983-01-02</td>\n",
       "      <td>2.0</td>\n",
       "      <td>0.0</td>\n",
       "    </tr>\n",
       "    <tr>\n",
       "      <th>220</th>\n",
       "      <td>20020917X02006</td>\n",
       "      <td>Accident</td>\n",
       "      <td>FTW82DA053</td>\n",
       "      <td>1982-02-01</td>\n",
       "      <td>LAS CRUCES, NM</td>\n",
       "      <td>United States</td>\n",
       "      <td>NaN</td>\n",
       "      <td>NaN</td>\n",
       "      <td>LCR</td>\n",
       "      <td>CRAWFORD</td>\n",
       "      <td>...</td>\n",
       "      <td>0.0</td>\n",
       "      <td>0.0</td>\n",
       "      <td>3.0</td>\n",
       "      <td>VMC</td>\n",
       "      <td>Landing</td>\n",
       "      <td>Probable Cause</td>\n",
       "      <td>01-02-1983</td>\n",
       "      <td>1983-01-02</td>\n",
       "      <td>3.0</td>\n",
       "      <td>0.0</td>\n",
       "    </tr>\n",
       "    <tr>\n",
       "      <th>222</th>\n",
       "      <td>20020917X01922</td>\n",
       "      <td>Accident</td>\n",
       "      <td>DEN82DA028</td>\n",
       "      <td>1982-02-01</td>\n",
       "      <td>ROCK SPRINGS, WY</td>\n",
       "      <td>United States</td>\n",
       "      <td>NaN</td>\n",
       "      <td>NaN</td>\n",
       "      <td>NaN</td>\n",
       "      <td>NaN</td>\n",
       "      <td>...</td>\n",
       "      <td>1.0</td>\n",
       "      <td>0.0</td>\n",
       "      <td>0.0</td>\n",
       "      <td>IMC</td>\n",
       "      <td>Cruise</td>\n",
       "      <td>Probable Cause</td>\n",
       "      <td>01-02-1983</td>\n",
       "      <td>1983-01-02</td>\n",
       "      <td>1.0</td>\n",
       "      <td>1.0</td>\n",
       "    </tr>\n",
       "  </tbody>\n",
       "</table>\n",
       "<p>5 rows × 34 columns</p>\n",
       "</div>"
      ],
      "text/plain": [
       "           Event.Id Investigation.Type Accident.Number  Event.Date  \\\n",
       "217  20020917X02131           Accident      FTW82FQG14  1982-02-01   \n",
       "218  20020917X02315           Accident      LAX82FVD09  1982-02-01   \n",
       "219  20020917X02170           Accident      LAX82DA059  1982-02-01   \n",
       "220  20020917X02006           Accident      FTW82DA053  1982-02-01   \n",
       "222  20020917X01922           Accident      DEN82DA028  1982-02-01   \n",
       "\n",
       "             Location        Country Latitude Longitude Airport.Code  \\\n",
       "217         PAMPA, TX  United States      NaN       NaN          NaN   \n",
       "218        SONOMA, CA  United States      NaN       NaN          SVA   \n",
       "219     LAS VEGAS, NV  United States      NaN       NaN          VGT   \n",
       "220    LAS CRUCES, NM  United States      NaN       NaN          LCR   \n",
       "222  ROCK SPRINGS, WY  United States      NaN       NaN          NaN   \n",
       "\n",
       "                  Airport.Name  ... Total.Serious.Injuries  \\\n",
       "217                        NaN  ...                    0.0   \n",
       "218              SONOMA VALLEY  ...                    0.0   \n",
       "219  N. LAS VEGAS AIR TERMINAL  ...                    0.0   \n",
       "220                   CRAWFORD  ...                    0.0   \n",
       "222                        NaN  ...                    1.0   \n",
       "\n",
       "    Total.Minor.Injuries Total.Uninjured Weather.Condition  \\\n",
       "217                  0.0             0.0               IMC   \n",
       "218                  0.0             1.0               VMC   \n",
       "219                  0.0             2.0               VMC   \n",
       "220                  0.0             3.0               VMC   \n",
       "222                  0.0             0.0               IMC   \n",
       "\n",
       "    Broad.phase.of.flight   Report.Status Publication.Date  Report.Date  \\\n",
       "217           Maneuvering  Probable Cause       01-02-1983   1983-01-02   \n",
       "218               Takeoff  Probable Cause       01-02-1983   1983-01-02   \n",
       "219               Landing  Probable Cause       01-02-1983   1983-01-02   \n",
       "220               Landing  Probable Cause       01-02-1983   1983-01-02   \n",
       "222                Cruise  Probable Cause       01-02-1983   1983-01-02   \n",
       "\n",
       "    N_passenger ser_inj_rate  \n",
       "217         2.0          1.0  \n",
       "218         1.0          0.0  \n",
       "219         2.0          0.0  \n",
       "220         3.0          0.0  \n",
       "222         1.0          1.0  \n",
       "\n",
       "[5 rows x 34 columns]"
      ]
     },
     "execution_count": 16,
     "metadata": {},
     "output_type": "execute_result"
    }
   ],
   "source": [
    "airplane_df.head()"
   ]
  },
  {
   "cell_type": "markdown",
   "id": "6c89136b",
   "metadata": {},
   "source": [
    "**Aircraft.Damage**\n",
    "- identify and execute any cleaning tasks\n",
    "- construct a derived column tracking whether an aircraft was destroyed or not."
   ]
  },
  {
   "cell_type": "markdown",
   "id": "82fb8053",
   "metadata": {},
   "source": [
    "**Remove NaNs and unknowns**"
   ]
  },
  {
   "cell_type": "code",
   "execution_count": 17,
   "id": "c607f65d",
   "metadata": {},
   "outputs": [
    {
     "data": {
      "text/plain": [
       "array(['Destroyed', 'Substantial', 'Minor', nan, 'Unknown'], dtype=object)"
      ]
     },
     "execution_count": 17,
     "metadata": {},
     "output_type": "execute_result"
    }
   ],
   "source": [
    "airplane_df['Aircraft.damage'].unique()"
   ]
  },
  {
   "cell_type": "code",
   "execution_count": 18,
   "id": "692c770b",
   "metadata": {},
   "outputs": [
    {
     "data": {
      "text/plain": [
       "Substantial    46048\n",
       "Destroyed      12494\n",
       "Minor           1854\n",
       "Unknown           41\n",
       "Name: Aircraft.damage, dtype: int64"
      ]
     },
     "execution_count": 18,
     "metadata": {},
     "output_type": "execute_result"
    }
   ],
   "source": [
    "airplane_df['Aircraft.damage'].value_counts()"
   ]
  },
  {
   "cell_type": "code",
   "execution_count": 19,
   "id": "17394dbf",
   "metadata": {},
   "outputs": [
    {
     "name": "stdout",
     "output_type": "stream",
     "text": [
      "\n",
      "Replace unknowns with Nans\n"
     ]
    },
    {
     "data": {
      "text/plain": [
       "Substantial    46048\n",
       "Destroyed      12494\n",
       "Minor           1854\n",
       "Name: Aircraft.damage, dtype: int64"
      ]
     },
     "execution_count": 19,
     "metadata": {},
     "output_type": "execute_result"
    }
   ],
   "source": [
    "print('\\nReplace unknowns with Nans')\n",
    "\n",
    "airplane_df['Aircraft.damage'] = airplane_df['Aircraft.damage'].replace({'Unknown':np.nan}) # turn unkws to NaN\n",
    "airplane_df.dropna(subset=['Aircraft.damage'], inplace=True) # drop NaNs from A.d col\n",
    "airplane_df['Aircraft.damage'].value_counts() # confirm dropped NaNs"
   ]
  },
  {
   "cell_type": "markdown",
   "id": "36994b72",
   "metadata": {},
   "source": [
    "**Boolean Masking for 'Destroyed'**"
   ]
  },
  {
   "cell_type": "code",
   "execution_count": 20,
   "id": "60559b33",
   "metadata": {},
   "outputs": [],
   "source": [
    "airplane_df['is_destroyed'] = (airplane_df['Aircraft.damage'] == 'Destroyed').astype(int)"
   ]
  },
  {
   "cell_type": "code",
   "execution_count": 21,
   "id": "831a7426",
   "metadata": {},
   "outputs": [
    {
     "data": {
      "text/html": [
       "<div>\n",
       "<style scoped>\n",
       "    .dataframe tbody tr th:only-of-type {\n",
       "        vertical-align: middle;\n",
       "    }\n",
       "\n",
       "    .dataframe tbody tr th {\n",
       "        vertical-align: top;\n",
       "    }\n",
       "\n",
       "    .dataframe thead th {\n",
       "        text-align: right;\n",
       "    }\n",
       "</style>\n",
       "<table border=\"1\" class=\"dataframe\">\n",
       "  <thead>\n",
       "    <tr style=\"text-align: right;\">\n",
       "      <th></th>\n",
       "      <th>Event.Id</th>\n",
       "      <th>Investigation.Type</th>\n",
       "      <th>Accident.Number</th>\n",
       "      <th>Event.Date</th>\n",
       "      <th>Location</th>\n",
       "      <th>Country</th>\n",
       "      <th>Latitude</th>\n",
       "      <th>Longitude</th>\n",
       "      <th>Airport.Code</th>\n",
       "      <th>Airport.Name</th>\n",
       "      <th>...</th>\n",
       "      <th>Total.Minor.Injuries</th>\n",
       "      <th>Total.Uninjured</th>\n",
       "      <th>Weather.Condition</th>\n",
       "      <th>Broad.phase.of.flight</th>\n",
       "      <th>Report.Status</th>\n",
       "      <th>Publication.Date</th>\n",
       "      <th>Report.Date</th>\n",
       "      <th>N_passenger</th>\n",
       "      <th>ser_inj_rate</th>\n",
       "      <th>is_destroyed</th>\n",
       "    </tr>\n",
       "  </thead>\n",
       "  <tbody>\n",
       "    <tr>\n",
       "      <th>217</th>\n",
       "      <td>20020917X02131</td>\n",
       "      <td>Accident</td>\n",
       "      <td>FTW82FQG14</td>\n",
       "      <td>1982-02-01</td>\n",
       "      <td>PAMPA, TX</td>\n",
       "      <td>United States</td>\n",
       "      <td>NaN</td>\n",
       "      <td>NaN</td>\n",
       "      <td>NaN</td>\n",
       "      <td>NaN</td>\n",
       "      <td>...</td>\n",
       "      <td>0.0</td>\n",
       "      <td>0.0</td>\n",
       "      <td>IMC</td>\n",
       "      <td>Maneuvering</td>\n",
       "      <td>Probable Cause</td>\n",
       "      <td>01-02-1983</td>\n",
       "      <td>1983-01-02</td>\n",
       "      <td>2.0</td>\n",
       "      <td>1.0</td>\n",
       "      <td>1</td>\n",
       "    </tr>\n",
       "    <tr>\n",
       "      <th>218</th>\n",
       "      <td>20020917X02315</td>\n",
       "      <td>Accident</td>\n",
       "      <td>LAX82FVD09</td>\n",
       "      <td>1982-02-01</td>\n",
       "      <td>SONOMA, CA</td>\n",
       "      <td>United States</td>\n",
       "      <td>NaN</td>\n",
       "      <td>NaN</td>\n",
       "      <td>SVA</td>\n",
       "      <td>SONOMA VALLEY</td>\n",
       "      <td>...</td>\n",
       "      <td>0.0</td>\n",
       "      <td>1.0</td>\n",
       "      <td>VMC</td>\n",
       "      <td>Takeoff</td>\n",
       "      <td>Probable Cause</td>\n",
       "      <td>01-02-1983</td>\n",
       "      <td>1983-01-02</td>\n",
       "      <td>1.0</td>\n",
       "      <td>0.0</td>\n",
       "      <td>0</td>\n",
       "    </tr>\n",
       "    <tr>\n",
       "      <th>219</th>\n",
       "      <td>20020917X02170</td>\n",
       "      <td>Accident</td>\n",
       "      <td>LAX82DA059</td>\n",
       "      <td>1982-02-01</td>\n",
       "      <td>LAS VEGAS, NV</td>\n",
       "      <td>United States</td>\n",
       "      <td>NaN</td>\n",
       "      <td>NaN</td>\n",
       "      <td>VGT</td>\n",
       "      <td>N. LAS VEGAS AIR TERMINAL</td>\n",
       "      <td>...</td>\n",
       "      <td>0.0</td>\n",
       "      <td>2.0</td>\n",
       "      <td>VMC</td>\n",
       "      <td>Landing</td>\n",
       "      <td>Probable Cause</td>\n",
       "      <td>01-02-1983</td>\n",
       "      <td>1983-01-02</td>\n",
       "      <td>2.0</td>\n",
       "      <td>0.0</td>\n",
       "      <td>0</td>\n",
       "    </tr>\n",
       "    <tr>\n",
       "      <th>220</th>\n",
       "      <td>20020917X02006</td>\n",
       "      <td>Accident</td>\n",
       "      <td>FTW82DA053</td>\n",
       "      <td>1982-02-01</td>\n",
       "      <td>LAS CRUCES, NM</td>\n",
       "      <td>United States</td>\n",
       "      <td>NaN</td>\n",
       "      <td>NaN</td>\n",
       "      <td>LCR</td>\n",
       "      <td>CRAWFORD</td>\n",
       "      <td>...</td>\n",
       "      <td>0.0</td>\n",
       "      <td>3.0</td>\n",
       "      <td>VMC</td>\n",
       "      <td>Landing</td>\n",
       "      <td>Probable Cause</td>\n",
       "      <td>01-02-1983</td>\n",
       "      <td>1983-01-02</td>\n",
       "      <td>3.0</td>\n",
       "      <td>0.0</td>\n",
       "      <td>0</td>\n",
       "    </tr>\n",
       "    <tr>\n",
       "      <th>222</th>\n",
       "      <td>20020917X01922</td>\n",
       "      <td>Accident</td>\n",
       "      <td>DEN82DA028</td>\n",
       "      <td>1982-02-01</td>\n",
       "      <td>ROCK SPRINGS, WY</td>\n",
       "      <td>United States</td>\n",
       "      <td>NaN</td>\n",
       "      <td>NaN</td>\n",
       "      <td>NaN</td>\n",
       "      <td>NaN</td>\n",
       "      <td>...</td>\n",
       "      <td>0.0</td>\n",
       "      <td>0.0</td>\n",
       "      <td>IMC</td>\n",
       "      <td>Cruise</td>\n",
       "      <td>Probable Cause</td>\n",
       "      <td>01-02-1983</td>\n",
       "      <td>1983-01-02</td>\n",
       "      <td>1.0</td>\n",
       "      <td>1.0</td>\n",
       "      <td>0</td>\n",
       "    </tr>\n",
       "  </tbody>\n",
       "</table>\n",
       "<p>5 rows × 35 columns</p>\n",
       "</div>"
      ],
      "text/plain": [
       "           Event.Id Investigation.Type Accident.Number  Event.Date  \\\n",
       "217  20020917X02131           Accident      FTW82FQG14  1982-02-01   \n",
       "218  20020917X02315           Accident      LAX82FVD09  1982-02-01   \n",
       "219  20020917X02170           Accident      LAX82DA059  1982-02-01   \n",
       "220  20020917X02006           Accident      FTW82DA053  1982-02-01   \n",
       "222  20020917X01922           Accident      DEN82DA028  1982-02-01   \n",
       "\n",
       "             Location        Country Latitude Longitude Airport.Code  \\\n",
       "217         PAMPA, TX  United States      NaN       NaN          NaN   \n",
       "218        SONOMA, CA  United States      NaN       NaN          SVA   \n",
       "219     LAS VEGAS, NV  United States      NaN       NaN          VGT   \n",
       "220    LAS CRUCES, NM  United States      NaN       NaN          LCR   \n",
       "222  ROCK SPRINGS, WY  United States      NaN       NaN          NaN   \n",
       "\n",
       "                  Airport.Name  ... Total.Minor.Injuries Total.Uninjured  \\\n",
       "217                        NaN  ...                  0.0             0.0   \n",
       "218              SONOMA VALLEY  ...                  0.0             1.0   \n",
       "219  N. LAS VEGAS AIR TERMINAL  ...                  0.0             2.0   \n",
       "220                   CRAWFORD  ...                  0.0             3.0   \n",
       "222                        NaN  ...                  0.0             0.0   \n",
       "\n",
       "    Weather.Condition Broad.phase.of.flight   Report.Status Publication.Date  \\\n",
       "217               IMC           Maneuvering  Probable Cause       01-02-1983   \n",
       "218               VMC               Takeoff  Probable Cause       01-02-1983   \n",
       "219               VMC               Landing  Probable Cause       01-02-1983   \n",
       "220               VMC               Landing  Probable Cause       01-02-1983   \n",
       "222               IMC                Cruise  Probable Cause       01-02-1983   \n",
       "\n",
       "    Report.Date  N_passenger ser_inj_rate is_destroyed  \n",
       "217  1983-01-02          2.0          1.0            1  \n",
       "218  1983-01-02          1.0          0.0            0  \n",
       "219  1983-01-02          2.0          0.0            0  \n",
       "220  1983-01-02          3.0          0.0            0  \n",
       "222  1983-01-02          1.0          1.0            0  \n",
       "\n",
       "[5 rows x 35 columns]"
      ]
     },
     "execution_count": 21,
     "metadata": {},
     "output_type": "execute_result"
    }
   ],
   "source": [
    "airplane_df.head()"
   ]
  },
  {
   "cell_type": "markdown",
   "id": "e9d8af9b",
   "metadata": {},
   "source": [
    "### Investigate the *Make* column\n",
    "- Identify cleaning tasks here\n",
    "- List cleaning tasks clearly in markdown\n",
    "- Execute the cleaning tasks\n",
    "- For your analysis, keep Makes with a reasonable number (you can put the threshold at 50 though lower could work as well)"
   ]
  },
  {
   "cell_type": "code",
   "execution_count": 22,
   "id": "cf9005cf",
   "metadata": {},
   "outputs": [
    {
     "data": {
      "text/plain": [
       "Cessna                     17456\n",
       "Piper                       9435\n",
       "CESSNA                      4567\n",
       "Beech                       3439\n",
       "PIPER                       2668\n",
       "                           ...  \n",
       "Wsk Pzl-krosno                 1\n",
       "STETSON NORMAN B               1\n",
       "COMMONWEALTH                   1\n",
       "FOLLAND AIRCRAFT CO LTD        1\n",
       "SCOTT TERRY G                  1\n",
       "Name: Make, Length: 1738, dtype: int64"
      ]
     },
     "execution_count": 22,
     "metadata": {},
     "output_type": "execute_result"
    }
   ],
   "source": [
    "airplane_df['Make'].value_counts()"
   ]
  },
  {
   "cell_type": "markdown",
   "id": "a7c53782",
   "metadata": {},
   "source": [
    "**Consolidate**"
   ]
  },
  {
   "cell_type": "code",
   "execution_count": 23,
   "id": "a5e2cc0d",
   "metadata": {},
   "outputs": [],
   "source": [
    "airplane_df[\"Make\"] = airplane_df[\"Make\"].replace(to_replace=[\"CESSNA AIRCRAFT CO\", \"CESSNA AIRCRAFT COMPANY\", \"CESSNA AIRCRAFT\", \"Cessna\"], value=\"CESSNA\")\n",
    "\n",
    "airplane_df[\"Make\"] = airplane_df[\"Make\"].replace(to_replace=[\"PIPER AIRCRAFT INC\", \"PIPER AIRCRAFT CORPORATION\", \"PIPER AIRCRAFT\", \"Piper\"], value=\"PIPER\")\n",
    "\n",
    "airplane_df[\"Make\"] = airplane_df[\"Make\"].replace(to_replace=[\"BEECHCRAFT\", \"HAWKER BEECHCRAFT\", \"HAWKER BEECHCRAFT CORP\", \"HAWKER BEECH\", \"Beech\"], value=\"BEECH\") \n",
    "\n",
    "airplane_df[\"Make\"] = airplane_df[\"Make\"].replace(to_replace=[\"THE BOEING COMPANY\", \"BOEING COMPANY\", \"BOEING STEARMAN\", \"Boeing\"], value=\"BOEING\")\n",
    "\n",
    "airplane_df[\"Make\"] = airplane_df[\"Make\"].replace(to_replace=[\"MOONEY AIRCRAFT CORP.\", \"MOONEY AIRPLANE CO INC\", \"MOONEY INTERNATIONAL\", \"Mooney\"], value=\"MOONEY\")\n",
    "\n",
    "airplane_df[\"Make\"] = airplane_df[\"Make\"].replace(to_replace=[\"GRUMMAN ACFT ENG COR-SCHWEIZER\", \"GRUMMAN AMERICAN AVN. CORP\", \"GRUMMAN AMERICAN AVN. CORP\", \"Grumman-schweizer\", \"Grumman\"], value= \"GRUMMAN\")\n",
    "\n",
    "airplane_df[\"Make\"] = airplane_df[\"Make\"].replace(to_replace=[\"AIRBUS INDUSTRIES\", \"Airbus Industrie\", \"Airbus\"], value=\"AIRBUS\")\n",
    "\n",
    "airplane_df[\"Make\"] = airplane_df[\"Make\"].replace(to_replace=[\"MAULE AIRCRAFT CORP\", \"Maule\"], value=\"MAULE\")\n",
    "\n",
    "airplane_df[\"Make\"] = airplane_df[\"Make\"].replace(to_replace=[\"AERONCA AIRCRAFT CORPORATION\", \"AERONCA CHAMPION\", \"AERONCA CHAMP\", \"Aeronca\", \"Champion\"], value=\"AERONCA\")\n",
    "\n",
    "airplane_df[\"Make\"] = airplane_df[\"Make\"].replace(to_replace=[\"AIR TRACTOR\", \"AIR TRACTOR INC\", \"Air Tractor\"], value=\"AIR TRACTOR\")\n",
    "\n",
    "airplane_df[\"Make\"] = airplane_df[\"Make\"].replace(to_replace=[\"CIRRUS\", \"CIRRUS DESIGN CORP\", \"CIRRUS DESIGN CORP.\", \"Cirrus\"], value=\"CIRRUS\")\n",
    "\n",
    "airplane_df[\"Make\"] = airplane_df[\"Make\"].replace(to_replace=[\"ERCOUPE\", \"ERCOUPE (ENG & RESEARCH CORP.)\", \"Ercoupe\"], value=\"ERCOUPE\")\n",
    "\n",
    "airplane_df[\"Make\"] = airplane_df[\"Make\"].replace(to_replace=[\"AVIAT AIRCRAFT INC\", \"AVIAT\", \"Aviat\"], value=\"AVIAT\")\n",
    "\n",
    "airplane_df[\"Make\"] = airplane_df[\"Make\"].replace(to_replace=[\"ROCKWELL\", \"ROCKWELL INTERNATIONAL\", \"Rockwell\"], value=\"ROCKWELL\")"
   ]
  },
  {
   "cell_type": "code",
   "execution_count": 24,
   "id": "f5181610",
   "metadata": {},
   "outputs": [
    {
     "data": {
      "text/plain": [
       "CESSNA               22063\n",
       "PIPER                12136\n",
       "BEECH                 4444\n",
       "Bell                  1341\n",
       "BOEING                1159\n",
       "MOONEY                1135\n",
       "GRUMMAN               1057\n",
       "AERONCA                883\n",
       "AIR TRACTOR            849\n",
       "Bellanca               666\n",
       "Robinson               592\n",
       "Hughes                 524\n",
       "MAULE                  502\n",
       "Schweizer              427\n",
       "CIRRUS                 346\n",
       "ROCKWELL               320\n",
       "Mcdonnell Douglas      314\n",
       "De Havilland           293\n",
       "Stinson                278\n",
       "Aero Commander         273\n",
       "Luscombe               259\n",
       "North American         257\n",
       "Taylorcraft            255\n",
       "AVIAT                  209\n",
       "Aerospatiale           206\n",
       "Name: Make, dtype: int64"
      ]
     },
     "execution_count": 24,
     "metadata": {},
     "output_type": "execute_result"
    }
   ],
   "source": [
    "filtered_makes = airplane_df['Make'].value_counts()[airplane_df['Make'].value_counts() > 50]\n",
    "filtered_makes[:25]"
   ]
  },
  {
   "cell_type": "markdown",
   "id": "f1ff6013",
   "metadata": {},
   "source": [
    "**Filter Based On Makes**"
   ]
  },
  {
   "cell_type": "code",
   "execution_count": 25,
   "id": "5d7b81a2",
   "metadata": {},
   "outputs": [],
   "source": [
    "airplane_df = airplane_df[airplane_df['Make'].isin(filtered_makes.index)]"
   ]
  },
  {
   "cell_type": "code",
   "execution_count": 26,
   "id": "f5f1ebd8",
   "metadata": {},
   "outputs": [
    {
     "name": "stdout",
     "output_type": "stream",
     "text": [
      "<class 'pandas.core.frame.DataFrame'>\n",
      "Int64Index: 54666 entries, 217 to 88784\n",
      "Data columns (total 35 columns):\n",
      " #   Column                  Non-Null Count  Dtype         \n",
      "---  ------                  --------------  -----         \n",
      " 0   Event.Id                54666 non-null  object        \n",
      " 1   Investigation.Type      54666 non-null  object        \n",
      " 2   Accident.Number         54666 non-null  object        \n",
      " 3   Event.Date              54666 non-null  object        \n",
      " 4   Location                54639 non-null  object        \n",
      " 5   Country                 54544 non-null  object        \n",
      " 6   Latitude                21632 non-null  object        \n",
      " 7   Longitude               21629 non-null  object        \n",
      " 8   Airport.Code            32597 non-null  object        \n",
      " 9   Airport.Name            33979 non-null  object        \n",
      " 10  Injury.Severity         54666 non-null  object        \n",
      " 11  Aircraft.damage         54666 non-null  object        \n",
      " 12  Aircraft.Category       54666 non-null  object        \n",
      " 13  Registration.Number     53974 non-null  object        \n",
      " 14  Make                    54666 non-null  object        \n",
      " 15  Model                   54655 non-null  object        \n",
      " 16  Amateur.Built           54666 non-null  object        \n",
      " 17  Number.of.Engines       52340 non-null  float64       \n",
      " 18  Engine.Type             52091 non-null  object        \n",
      " 19  FAR.Description         18765 non-null  object        \n",
      " 20  Schedule                6883 non-null   object        \n",
      " 21  Purpose.of.flight       52269 non-null  object        \n",
      " 22  Air.carrier             9270 non-null   object        \n",
      " 23  Total.Fatal.Injuries    54666 non-null  float64       \n",
      " 24  Total.Serious.Injuries  54666 non-null  float64       \n",
      " 25  Total.Minor.Injuries    54666 non-null  float64       \n",
      " 26  Total.Uninjured         54666 non-null  float64       \n",
      " 27  Weather.Condition       53263 non-null  object        \n",
      " 28  Broad.phase.of.flight   39749 non-null  object        \n",
      " 29  Report.Status           52165 non-null  object        \n",
      " 30  Publication.Date        54666 non-null  object        \n",
      " 31  Report.Date             54666 non-null  datetime64[ns]\n",
      " 32  N_passenger             54666 non-null  float64       \n",
      " 33  ser_inj_rate            54666 non-null  float64       \n",
      " 34  is_destroyed            54666 non-null  int64         \n",
      "dtypes: datetime64[ns](1), float64(7), int64(1), object(26)\n",
      "memory usage: 15.0+ MB\n"
     ]
    }
   ],
   "source": [
    "airplane_df.info()"
   ]
  },
  {
   "cell_type": "markdown",
   "id": "6ed9f3c2",
   "metadata": {},
   "source": [
    "### Inspect Model column\n",
    "- Get rid of any NaNs.\n",
    "- Inspect the column and counts for each model/make. Are model labels unique to each make?\n",
    "- If not, create a derived column that is a unique identifier for a given plane type."
   ]
  },
  {
   "cell_type": "code",
   "execution_count": 27,
   "id": "05f20594",
   "metadata": {},
   "outputs": [],
   "source": [
    "airplane_df.dropna(subset=['Model'], inplace=True)"
   ]
  },
  {
   "cell_type": "markdown",
   "id": "9526f8e5",
   "metadata": {},
   "source": [
    "**Multi-Indexing (Make & Model)**"
   ]
  },
  {
   "cell_type": "code",
   "execution_count": 28,
   "id": "6eeea4ec",
   "metadata": {},
   "outputs": [],
   "source": [
    "airplane_df['make_model'] = airplane_df['Make'] + '_' + airplane_df['Model'].str.upper()"
   ]
  },
  {
   "cell_type": "markdown",
   "id": "9a173ebd",
   "metadata": {},
   "source": [
    "### Cleaning other columns\n",
    "- there are other columns containing data that might be related to the outcome of an accident. We list a few here:\n",
    "- Engine.Type\n",
    "- Weather.Condition\n",
    "- Number.of.Engines\n",
    "- Purpose.of.flight\n",
    "- Broad.phase.of.flight\n",
    "\n",
    "Inspect and identify potential cleaning tasks in each of the above columns. Execute those cleaning tasks. \n",
    "\n",
    "**Note**: You do not necessarily need to impute or drop NaNs here."
   ]
  },
  {
   "cell_type": "markdown",
   "id": "f00b6b5f",
   "metadata": {},
   "source": [
    "**Clean 'Engine.Type'**"
   ]
  },
  {
   "cell_type": "code",
   "execution_count": 29,
   "id": "0d289fb7",
   "metadata": {},
   "outputs": [
    {
     "data": {
      "text/plain": [
       "Reciprocating      46042\n",
       "Turbo Prop          2307\n",
       "Turbo Shaft         1551\n",
       "Turbo Fan           1049\n",
       "Unknown              871\n",
       "Turbo Jet            266\n",
       "Geared Turbofan        1\n",
       "UNK                    1\n",
       "Name: Engine.Type, dtype: int64"
      ]
     },
     "execution_count": 29,
     "metadata": {},
     "output_type": "execute_result"
    }
   ],
   "source": [
    "airplane_df['Engine.Type'].value_counts()"
   ]
  },
  {
   "cell_type": "code",
   "execution_count": 30,
   "id": "2719877c",
   "metadata": {},
   "outputs": [
    {
     "name": "stdout",
     "output_type": "stream",
     "text": [
      "\n",
      "Replace 'Unknown' & 'UNK'\n"
     ]
    }
   ],
   "source": [
    "print('\\nReplace \\'Unknown\\' & \\'UNK\\'')"
   ]
  },
  {
   "cell_type": "code",
   "execution_count": 31,
   "id": "f979c6b7",
   "metadata": {},
   "outputs": [],
   "source": [
    "airplane_df['Engine.Type'].replace({'Unknown': np.nan, 'UNK':np.nan}, inplace=True)"
   ]
  },
  {
   "cell_type": "markdown",
   "id": "b64a850b",
   "metadata": {},
   "source": [
    "**Filter Out Single 'Engine' Values**"
   ]
  },
  {
   "cell_type": "code",
   "execution_count": 32,
   "id": "2cdb470d",
   "metadata": {},
   "outputs": [
    {
     "data": {
      "text/plain": [
       "Reciprocating    46042\n",
       "Turbo Prop        2307\n",
       "Turbo Shaft       1551\n",
       "Turbo Fan         1049\n",
       "Turbo Jet          266\n",
       "Name: Engine.Type, dtype: int64"
      ]
     },
     "execution_count": 32,
     "metadata": {},
     "output_type": "execute_result"
    }
   ],
   "source": [
    "filtr_engine = airplane_df['Engine.Type'].value_counts()[airplane_df['Engine.Type'].value_counts() > 1] # filter out single engine value\n",
    "\n",
    "airplane_df = airplane_df[airplane_df['Engine.Type'].isin(filtr_engine.index)] # implement filter in engine col\n",
    "\n",
    "airplane_df['Engine.Type'].value_counts() # check work"
   ]
  },
  {
   "cell_type": "code",
   "execution_count": 33,
   "id": "18e25595",
   "metadata": {},
   "outputs": [
    {
     "data": {
      "text/plain": [
       "1.0    43821\n",
       "2.0     6613\n",
       "3.0      214\n",
       "4.0      212\n",
       "0.0        1\n",
       "Name: Number.of.Engines, dtype: int64"
      ]
     },
     "execution_count": 33,
     "metadata": {},
     "output_type": "execute_result"
    }
   ],
   "source": [
    "airplane_df['Number.of.Engines'].value_counts()"
   ]
  },
  {
   "cell_type": "markdown",
   "id": "37f81353",
   "metadata": {},
   "source": [
    "**Removing Zero 'Number.of.Engines'**"
   ]
  },
  {
   "cell_type": "code",
   "execution_count": 34,
   "id": "b6db61e5",
   "metadata": {},
   "outputs": [
    {
     "name": "stdout",
     "output_type": "stream",
     "text": [
      "\n",
      "Check Work\n"
     ]
    },
    {
     "data": {
      "text/plain": [
       "1.0    43821\n",
       "2.0     6613\n",
       "3.0      214\n",
       "4.0      212\n",
       "Name: Number.of.Engines, dtype: int64"
      ]
     },
     "execution_count": 34,
     "metadata": {},
     "output_type": "execute_result"
    }
   ],
   "source": [
    "airplane_df = airplane_df[airplane_df['Number.of.Engines'] > 0.0]\n",
    "\n",
    "print('\\nCheck Work')\n",
    "airplane_df['Number.of.Engines'].value_counts()"
   ]
  },
  {
   "cell_type": "markdown",
   "id": "01b1eee2",
   "metadata": {},
   "source": [
    "**Clean 'Weather.Condition'**"
   ]
  },
  {
   "cell_type": "code",
   "execution_count": 35,
   "id": "de201507",
   "metadata": {},
   "outputs": [
    {
     "name": "stdout",
     "output_type": "stream",
     "text": [
      "\n",
      "Unique Values\n"
     ]
    },
    {
     "data": {
      "text/plain": [
       "array(['IMC', 'VMC', 'UNK', nan, 'Unk'], dtype=object)"
      ]
     },
     "execution_count": 35,
     "metadata": {},
     "output_type": "execute_result"
    }
   ],
   "source": [
    "print('\\nUnique Values')\n",
    "airplane_df['Weather.Condition'].unique()"
   ]
  },
  {
   "cell_type": "markdown",
   "id": "5d314cbe",
   "metadata": {},
   "source": [
    "**Replace 'Weather.Condition' Unknowns with NaNs**"
   ]
  },
  {
   "cell_type": "code",
   "execution_count": 36,
   "id": "aaf940e8",
   "metadata": {},
   "outputs": [],
   "source": [
    "airplane_df['Weather.Condition'].replace({'UNK': np.nan, 'Unk': np.nan}, inplace=True)"
   ]
  },
  {
   "cell_type": "code",
   "execution_count": 37,
   "id": "f32b1393",
   "metadata": {},
   "outputs": [
    {
     "name": "stdout",
     "output_type": "stream",
     "text": [
      "\n",
      " Check Work\n"
     ]
    },
    {
     "data": {
      "text/plain": [
       "VMC    46160\n",
       "IMC     3916\n",
       "Name: Weather.Condition, dtype: int64"
      ]
     },
     "execution_count": 37,
     "metadata": {},
     "output_type": "execute_result"
    }
   ],
   "source": [
    "print('\\n Check Work')\n",
    "airplane_df['Weather.Condition'].value_counts()"
   ]
  },
  {
   "cell_type": "markdown",
   "id": "12ad63d9",
   "metadata": {},
   "source": [
    "### Column Removal\n",
    "- inspect the dataframe and drop any columns that have too many NaNs"
   ]
  },
  {
   "cell_type": "code",
   "execution_count": 38,
   "id": "f661bb21",
   "metadata": {},
   "outputs": [
    {
     "name": "stdout",
     "output_type": "stream",
     "text": [
      "<class 'pandas.core.frame.DataFrame'>\n",
      "Int64Index: 50860 entries, 217 to 88767\n",
      "Data columns (total 36 columns):\n",
      " #   Column                  Non-Null Count  Dtype         \n",
      "---  ------                  --------------  -----         \n",
      " 0   Event.Id                50860 non-null  object        \n",
      " 1   Investigation.Type      50860 non-null  object        \n",
      " 2   Accident.Number         50860 non-null  object        \n",
      " 3   Event.Date              50860 non-null  object        \n",
      " 4   Location                50849 non-null  object        \n",
      " 5   Country                 50741 non-null  object        \n",
      " 6   Latitude                19570 non-null  object        \n",
      " 7   Longitude               19567 non-null  object        \n",
      " 8   Airport.Code            31212 non-null  object        \n",
      " 9   Airport.Name            32613 non-null  object        \n",
      " 10  Injury.Severity         50860 non-null  object        \n",
      " 11  Aircraft.damage         50860 non-null  object        \n",
      " 12  Aircraft.Category       50860 non-null  object        \n",
      " 13  Registration.Number     50831 non-null  object        \n",
      " 14  Make                    50860 non-null  object        \n",
      " 15  Model                   50860 non-null  object        \n",
      " 16  Amateur.Built           50860 non-null  object        \n",
      " 17  Number.of.Engines       50860 non-null  float64       \n",
      " 18  Engine.Type             50860 non-null  object        \n",
      " 19  FAR.Description         16672 non-null  object        \n",
      " 20  Schedule                5961 non-null   object        \n",
      " 21  Purpose.of.flight       49457 non-null  object        \n",
      " 22  Air.carrier             8176 non-null   object        \n",
      " 23  Total.Fatal.Injuries    50860 non-null  float64       \n",
      " 24  Total.Serious.Injuries  50860 non-null  float64       \n",
      " 25  Total.Minor.Injuries    50860 non-null  float64       \n",
      " 26  Total.Uninjured         50860 non-null  float64       \n",
      " 27  Weather.Condition       50076 non-null  object        \n",
      " 28  Broad.phase.of.flight   39218 non-null  object        \n",
      " 29  Report.Status           50182 non-null  object        \n",
      " 30  Publication.Date        50860 non-null  object        \n",
      " 31  Report.Date             50860 non-null  datetime64[ns]\n",
      " 32  N_passenger             50860 non-null  float64       \n",
      " 33  ser_inj_rate            50860 non-null  float64       \n",
      " 34  is_destroyed            50860 non-null  int64         \n",
      " 35  make_model              50860 non-null  object        \n",
      "dtypes: datetime64[ns](1), float64(7), int64(1), object(27)\n",
      "memory usage: 14.4+ MB\n"
     ]
    }
   ],
   "source": [
    "airplane_df.info()"
   ]
  },
  {
   "cell_type": "markdown",
   "id": "2b59f470",
   "metadata": {},
   "source": [
    "**Drop Cols with Many NaNs**"
   ]
  },
  {
   "cell_type": "code",
   "execution_count": 39,
   "id": "97a43764",
   "metadata": {},
   "outputs": [],
   "source": [
    "airplane_df = airplane_df.drop(columns=['FAR.Description', 'Air.carrier', 'Schedule'])"
   ]
  },
  {
   "cell_type": "markdown",
   "id": "750d48f1",
   "metadata": {},
   "source": [
    "### Save DataFrame to csv\n",
    "- its generally useful to save data to file/server after its in a sufficiently cleaned or intermediate state\n",
    "- the data can then be loaded directly in another notebook for further analysis\n",
    "- this helps keep your notebooks and workflow readable, clean and modularized"
   ]
  },
  {
   "cell_type": "code",
   "execution_count": 40,
   "id": "b425a512",
   "metadata": {},
   "outputs": [],
   "source": [
    "airplane_df.to_csv('data/air_cleaned.csv', index=False)"
   ]
  }
 ],
 "metadata": {
  "kernelspec": {
   "display_name": "Python 3 (ipykernel)",
   "language": "python",
   "name": "python3"
  },
  "language_info": {
   "codemirror_mode": {
    "name": "ipython",
    "version": 3
   },
   "file_extension": ".py",
   "mimetype": "text/x-python",
   "name": "python",
   "nbconvert_exporter": "python",
   "pygments_lexer": "ipython3",
   "version": "3.9.7"
  }
 },
 "nbformat": 4,
 "nbformat_minor": 5
}
